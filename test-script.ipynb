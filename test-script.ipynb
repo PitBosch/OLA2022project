{
 "cells": [
  {
   "cell_type": "markdown",
   "metadata": {},
   "source": [
    "# LIBRARIES"
   ]
  },
  {
   "cell_type": "code",
   "execution_count": 1,
   "metadata": {},
   "outputs": [],
   "source": [
    "import pickle\n",
    "from Environment import *\n",
    "from UserCat import UserCat\n",
    "from Product import Product\n",
    "from Greedy_optimizer import *\n",
    "import numpy as np\n",
    "import matplotlib.pyplot as plt\n",
    "from step3_ucb1 import *\n",
    "from step4_ucb1 import *\n",
    "from step5_ucb1 import *\n",
    "from Step3_TS import *\n",
    "from Step4_TS import *"
   ]
  },
  {
   "cell_type": "markdown",
   "metadata": {},
   "source": [
    "# ENVIRONMENT DEFINITION "
   ]
  },
  {
   "cell_type": "markdown",
   "metadata": {},
   "source": [
    "- Environment fixed informations and Products definition"
   ]
  },
  {
   "cell_type": "code",
   "execution_count": 2,
   "metadata": {},
   "outputs": [],
   "source": [
    "np.random.seed(1)\n",
    "\n",
    "products=[]\n",
    "\n",
    "nameofproduct= [ #name of products\n",
    "    \"Calabazas\",\n",
    "    \"Hinojo\",\n",
    "    \"Sesamo\",\n",
    "    \"Girasol\",\n",
    "    \"Amapola\"\n",
    "]\n",
    "# Dictionary fixing the secondary products linked to \n",
    "secondary_dict= {        \n",
    "    \"Calabazas\": [1,2],\n",
    "    \"Hinojo\": [0,2],\n",
    "    \"Sesamo\": [1,3],\n",
    "    \"Girasol\": [2,4],\n",
    "    \"Amapola\": [2,3]\n",
    "}\n",
    "\n",
    "# Matrix n_prod*n_prices collecting the possible prices for each product. Prices are in ascending order\n",
    "prices = [[8., 9, 10, 11],\n",
    "          [10., 11, 12, 13],\n",
    "          [20., 21, 23, 25],\n",
    "          [28., 30, 31, 33],\n",
    "          [40., 42, 43, 45]]\n",
    "# Production cost of the products\n",
    "cost = [5, 7.8, 18.1, 23.5, 32]\n",
    "\n",
    "#sarebbe interessante anche prendere da file il tutto così da cambiare tutto più facilmente\n",
    "#calcolo i margini dai cost mi sembra più sensato e anche più veloce se dobbiamo cambiare continuamente\n",
    "# Computation of margins linked to each product for a particular choice of price\n",
    "cost2 = np.tile(np.array([cost]).transpose(), (1, 4))\n",
    "margins = np.array(prices)-cost2\n",
    "# Creation of the 5 objects of Product class\n",
    "for i in range (5):\n",
    "    products.append(Product(prices[i], i, nameofproduct[i],margins[i]))\n",
    "\n",
    "# Parameter for the computation of the click probability on the SECOND secondary product\n",
    "lambda_q = 0.7"
   ]
  },
  {
   "cell_type": "markdown",
   "metadata": {},
   "source": [
    "- User Category 1: Young and Inexpert"
   ]
  },
  {
   "cell_type": "code",
   "execution_count": 3,
   "metadata": {},
   "outputs": [],
   "source": [
    "# Parameters for the distribution describing the reservation price\n",
    "res_price_params_1 = {\n",
    "    \"mean\": [9, 15, 22, 33, 35],\n",
    "    \"std\": [1, 2, 1, 1.5, 1.5]\n",
    "}\n",
    "# Matrix collecting the graph_weights describing mechanism of click on secondary products\n",
    "probabilities_1 = [[0, 0.7, 0.3, 0, 0],\n",
    "                 [0.6, 0, 0.5, 0, 0],\n",
    "                 [0, 0.7, 0, 0.3, 0],\n",
    "                 [0, 0, 0.4, 0, 0.1],\n",
    "                 [0.5, 0, 0.3, 0, 0]]\n",
    "prob_lambda_1 = lambda_correct(np.matrix(probabilities_1), secondary_dict, lambda_q)\n",
    "# Parameter of the Dirichlet for the alphas ratio sampling\n",
    "alphas_1 = [15, 15, 10, 5, 5]\n",
    "# Parameter of the Poisson distribution determining the number of product bought\n",
    "# ! we considered a trasleted Poisson in 1, to avoid the case of 0 items bought, so\n",
    "#   the mean is poisson_lambda+1\n",
    "poisson_lambda_1 = [2, 1, .5, .2, .1]\n",
    "\n",
    "user1 = UserCat(alphas_1, res_price_params_1, poisson_lambda_1, prob_lambda_1)"
   ]
  },
  {
   "cell_type": "markdown",
   "metadata": {},
   "source": [
    "- User Category 2: Old and Inexpert"
   ]
  },
  {
   "cell_type": "code",
   "execution_count": 4,
   "metadata": {},
   "outputs": [],
   "source": [
    "# Parameters for the distribution describing the reservation price\n",
    "res_price_params_2 = {\n",
    "    \"mean\": [9, 16, 25, 41, 47],\n",
    "    \"std\": [1, 2.5, 1.5, 3, 2]\n",
    "}\n",
    "# Matrix collecting the graph_weights describing mechanism of click on secondary products\n",
    "probabilities_2 = [[0, 0.5, 0.4, 0, 0],\n",
    "                 [0.4, 0, 0.6, 0, 0],\n",
    "                 [0, 0.7, 0, 0.5, 0],\n",
    "                 [0, 0, 0.5, 0, 0.3],\n",
    "                 [0, 0, 0.5, 0.3, 0]]\n",
    "prob_lambda_2 = lambda_correct(np.matrix(probabilities_2), secondary_dict, lambda_q)\n",
    "# Parameter of the Dirichlet for the alphas ratio sampling\n",
    "alphas_2 = [7, 12, 12, 12, 7]\n",
    "# Parameter of the Poisson distribution determining the number of product bought\n",
    "# ! we considered a trasleted Poisson in 1, to avoid the case of 0 items bought, so\n",
    "#   the mean is poisson_lambda+1\n",
    "poisson_lambda_2 = [0.5, 1, 2, 1, 0.5]\n",
    "\n",
    "user2 = UserCat(alphas_2, res_price_params_2, poisson_lambda_2, prob_lambda_2)"
   ]
  },
  {
   "cell_type": "markdown",
   "metadata": {},
   "source": [
    "- User Category 3: Expert"
   ]
  },
  {
   "cell_type": "code",
   "execution_count": 5,
   "metadata": {},
   "outputs": [],
   "source": [
    "# Parameters for the distribution describing the reservation price\n",
    "res_price_params_3 = {\n",
    "    \"mean\": [8, 13, 24, 39, 50],\n",
    "    \"std\": [1, 1.5, 2, 2, 1.5]\n",
    "}\n",
    "# Matrix collecting the graph_weights describing mechanism of click on secondary products\n",
    "probabilities_3 = [[0, 0, 0.6, 0.4, 0],\n",
    "                 [0, 0, 0, 0.7, 0.4],\n",
    "                 [0, 0.4, 0, 0.6, 0],\n",
    "                 [0, 0, 0.3, 0, 0.7],\n",
    "                 [0, 0, 0.4, 0.6, 0]]\n",
    "prob_lambda_3 = lambda_correct(np.matrix(probabilities_2), secondary_dict, lambda_q)\n",
    "# Parameter of the Dirichlet for the alphas ratio sampling\n",
    "alphas_3 = [5, 5, 10, 15, 15]\n",
    "# Parameter of the Poisson distribution determining the number of product bought\n",
    "# ! we considered a trasleted Poisson in 1, to avoid the case of 0 items bought, so\n",
    "#   the mean is poisson_lambda+1\n",
    "poisson_lambda_3 = [0.1, 0.2, 0.5, 1.5, 1.5]\n",
    "\n",
    "user3 = UserCat(alphas_3, res_price_params_3, poisson_lambda_3, prob_lambda_3)"
   ]
  },
  {
   "cell_type": "markdown",
   "metadata": {},
   "source": [
    "- User Category 0: Aggregated demand"
   ]
  },
  {
   "cell_type": "code",
   "execution_count": 6,
   "metadata": {},
   "outputs": [],
   "source": [
    "# Parameters for the distribution describing the reservation price\n",
    "res_price_params_0 = {\n",
    "    \"mean\": [9.7, 12.7, 24.5, 31.6, 41.1],\n",
    "    \"std\": [1.5, 2, 4, 2.5, 3]\n",
    "}\n",
    "\n",
    "# Matrix collecting the graph_weights describing mechanism of click on secondary products\n",
    "probabilities_0 = [[0, 0.6, 0.2, 0, 0],\n",
    "                 [0.5, 0, 0.4, 0, 0],\n",
    "                 [0, 0.5, 0, 0.5, 0],\n",
    "                 [0, 0, 0.6, 0, 0.5],\n",
    "                 [0, 0, 0.3, 0.5, 0]]\n",
    "prob_lambda_0 = lambda_correct(np.matrix(probabilities_0), secondary_dict, lambda_q)\n",
    "# Parameter of the Dirichlet for the alphas ratio sampling\n",
    "alphas_0 = [10, 10, 10, 10, 10]\n",
    "# Parameter of the Poisson distribution determining the number of product bought\n",
    "# ! we considered a trasleted Poisson in 1, to avoid the case of 0 items bought, so\n",
    "#   the mean is poisson_lambda+1\n",
    "poisson_lambda_0 = [1.5, 1, .5, .5, .2]\n",
    "\n",
    "user0 = UserCat(alphas_0, res_price_params_0, poisson_lambda_0, prob_lambda_0)"
   ]
  },
  {
   "cell_type": "markdown",
   "metadata": {},
   "source": [
    "- Environment creation"
   ]
  },
  {
   "cell_type": "code",
   "execution_count": 7,
   "metadata": {},
   "outputs": [],
   "source": [
    "# list of users \n",
    "#users = [user1, user2, user3]\n",
    "users = [user0]\n",
    "# probability distribution of the users\n",
    "#p_users = [1/3, 1/3, 1/3]\n",
    "p_users = [1]\n",
    "\n",
    "env = Environment(users, products, secondary_dict, p_users)"
   ]
  },
  {
   "cell_type": "code",
   "execution_count": 8,
   "metadata": {},
   "outputs": [
    {
     "data": {
      "text/plain": [
       "(10.325578532573228, [0, 1, 2, 1, 0])"
      ]
     },
     "execution_count": 8,
     "metadata": {},
     "output_type": "execute_result"
    }
   ],
   "source": [
    "env.optimal_reward()"
   ]
  },
  {
   "cell_type": "code",
   "execution_count": 9,
   "metadata": {},
   "outputs": [
    {
     "data": {
      "text/plain": [
       "8.769613519581187"
      ]
     },
     "execution_count": 9,
     "metadata": {},
     "output_type": "execute_result"
    }
   ],
   "source": [
    "env.expected_reward([2,3,2,1,0])"
   ]
  },
  {
   "cell_type": "code",
   "execution_count": 10,
   "metadata": {},
   "outputs": [
    {
     "data": {
      "text/plain": [
       "matrix([[0.87146285, 0.67963081, 0.42074029, 0.19306234],\n",
       "        [0.91149201, 0.80233746, 0.63683065, 0.44038231],\n",
       "        [0.86970548, 0.80921305, 0.64616977, 0.45026178],\n",
       "        [0.9250663 , 0.7389137 , 0.59483487, 0.28773972],\n",
       "        [0.64306616, 0.38208858, 0.263258  , 0.09680048]])"
      ]
     },
     "execution_count": 10,
     "metadata": {},
     "output_type": "execute_result"
    }
   ],
   "source": [
    "np.matrix(env.theoretical_values['conversion_rates'][0])"
   ]
  },
  {
   "cell_type": "code",
   "execution_count": 11,
   "metadata": {},
   "outputs": [
    {
     "data": {
      "text/plain": [
       "{'CR_data': array([[66., 88., 84., 50., 21.],\n",
       "        [77., 96., 97., 50., 40.]]),\n",
       " 'initial_prod': array([45., 42., 57., 27., 30.]),\n",
       " 'n_prod_sold': array([[167., 166., 115.,  76.,  27.],\n",
       "        [ 66.,  88.,  84.,  50.,  21.]]),\n",
       " 'CR_vector': array([0.85714285, 0.91666666, 0.86597937, 0.99999998, 0.52499999]),\n",
       " 'alpha_ratios': array([0.2238806 , 0.20895522, 0.28358209, 0.13432836, 0.14925373]),\n",
       " 'mean_prod_sold': array([2.53030299, 1.88636361, 1.3690476 , 1.51999997, 1.28571422])}"
      ]
     },
     "execution_count": 11,
     "metadata": {},
     "output_type": "execute_result"
    }
   ],
   "source": [
    "np.random.seed(0)\n",
    "a = env.simulate_day(200, [0,0,0,0,0], [\"conversion_rates\", \"alpha_ratios\", \"products_sold\"])\n",
    "a"
   ]
  },
  {
   "cell_type": "code",
   "execution_count": 12,
   "metadata": {},
   "outputs": [
    {
     "data": {
      "text/plain": [
       "{'CR_data': array([[ 734.,  877.,  869.,  508.,  262.],\n",
       "        [ 853.,  975., 1005.,  542.,  434.]]),\n",
       " 'initial_prod': array([567., 366., 553., 224., 294.]),\n",
       " 'n_prod_sold': array([[1780., 1714., 1271.,  765.,  325.],\n",
       "        [ 734.,  877.,  869.,  508.,  262.]]),\n",
       " 'graph_weights': array([[0.        , 0.57231405, 0.15523466, 0.        , 0.        ],\n",
       "        [0.46428571, 0.        , 0.28494624, 0.        , 0.        ],\n",
       "        [0.        , 0.48467153, 0.        , 0.3579235 , 0.        ],\n",
       "        [0.        , 0.        , 0.61044176, 0.        , 0.31390134],\n",
       "        [0.        , 0.        , 0.28205128, 0.33532934, 0.        ]]),\n",
       " 'visualizations': array([[  0., 484., 554.,   0.,   0.],\n",
       "        [616.,   0., 558.,   0.,   0.],\n",
       "        [  0., 685.,   0., 732.,   0.],\n",
       "        [  0.,   0., 249.,   0., 446.],\n",
       "        [  0.,   0., 195., 167.,   0.]]),\n",
       " 'clicks': array([[  0., 277.,  86.,   0.,   0.],\n",
       "        [286.,   0., 159.,   0.,   0.],\n",
       "        [  0., 332.,   0., 262.,   0.],\n",
       "        [  0.,   0., 152.,   0., 140.],\n",
       "        [  0.,   0.,  55.,  56.,   0.]]),\n",
       " 'CR_vector': array([0.86049238, 0.89948718, 0.86467662, 0.93726937, 0.60368663]),\n",
       " 'alpha_ratios': array([0.28293413, 0.18263473, 0.2759481 , 0.11177645, 0.14670659]),\n",
       " 'mean_prod_sold': array([2.42506812, 1.95438996, 1.46260069, 1.50590551, 1.24045801])}"
      ]
     },
     "execution_count": 12,
     "metadata": {},
     "output_type": "execute_result"
    }
   ],
   "source": [
    "np.random.seed(0)\n",
    "a = env.simulate_day(2000, [0,0,0,0,0], [\"conversion_rates\", \"alpha_ratios\", \"products_sold\", \"graph_weights\"], aggregated= False)\n",
    "a"
   ]
  },
  {
   "cell_type": "markdown",
   "metadata": {},
   "source": [
    "- Reservation Price Distribution Plot for one user"
   ]
  },
  {
   "cell_type": "code",
   "execution_count": 13,
   "metadata": {},
   "outputs": [
    {
     "data": {
      "image/png": "[encoded data removed]",
      "text/plain": [
       "<Figure size 864x504 with 1 Axes>"
      ]
     },
     "metadata": {
      "needs_background": "light"
     },
     "output_type": "display_data"
    }
   ],
   "source": [
    "user_index = 0\n",
    "x = np.arange(0, 60 , .01)\n",
    "plt.figure(figsize=(12,7))\n",
    "\n",
    "color_list = ['blue', 'orange', 'green', 'red', 'purple']\n",
    "\n",
    "for i in range(5):\n",
    "    res_price_distr = env.users[user_index].res_price_distr[i]\n",
    "    y = res_price_distr.pdf(x)\n",
    "    plt.plot(x, y, label = 'Product %d' %i, color = color_list[i])\n",
    "\n",
    "for i in range(5):\n",
    "    for j in range(4):\n",
    "        plt.scatter(prices[i][j], 0.025, color = color_list[i])\n",
    "\n",
    "plt.title(\"Reservation Price Distributions for the user category %s\" %env.users[user_index].category)\n",
    "plt.legend()\n",
    "plt.show()"
   ]
  },
  {
   "cell_type": "markdown",
   "metadata": {},
   "source": [
    "# Greedy Algorithm Example"
   ]
  },
  {
   "cell_type": "code",
   "execution_count": 14,
   "metadata": {},
   "outputs": [
    {
     "data": {
      "text/plain": [
       "{'expected_reward': 10.325578532573228, 'combination': [0, 1, 2, 1, 0]}"
      ]
     },
     "execution_count": 14,
     "metadata": {},
     "output_type": "execute_result"
    }
   ],
   "source": [
    "greedy_optimizer = Greedy_optimizer(env)\n",
    "greedy_optimizer.run()"
   ]
  },
  {
   "cell_type": "code",
   "execution_count": 15,
   "metadata": {},
   "outputs": [
    {
     "data": {
      "text/plain": [
       "(10.325578532573228, [0, 1, 2, 1, 0])"
      ]
     },
     "execution_count": 15,
     "metadata": {},
     "output_type": "execute_result"
    }
   ],
   "source": [
    "env.optimal_reward()"
   ]
  },
  {
   "cell_type": "markdown",
   "metadata": {},
   "source": [
    "# STEP 3 : Uncertain Convertion Rates"
   ]
  },
  {
   "cell_type": "markdown",
   "metadata": {},
   "source": [
    "## - TS"
   ]
  },
  {
   "cell_type": "code",
   "execution_count": 10,
   "metadata": {},
   "outputs": [],
   "source": [
    "# Initial assumptions for beta parameters (uniform distr. on [0, 1])\n",
    "a = np.ones((5,4))\n",
    "b = np.ones((5,4))\n",
    "initial_beta = [a, b]\n",
    "learner = Step3_TS(env, initial_beta, learning_rate = 0.5)"
   ]
  },
  {
   "cell_type": "code",
   "execution_count": null,
   "metadata": {},
   "outputs": [],
   "source": [
    "# set the parameter for the algorithm execution\n",
    "n_runs = 200\n",
    "daily_users = 200\n",
    "n_days = 300\n",
    "\n",
    "# delete possible old informations form past runs \n",
    "learner.reward_history = []\n",
    "learner.price_comb_history = []\n",
    "learner.cr_matrix_list = []\n",
    "\n",
    "# execute the algorithm n_runs times\n",
    "for i in range(n_runs) :\n",
    "    learner.run(n_days, daily_users)\n",
    "\n",
    "# collect all informations for the plot\n",
    "opt_reward = learner.opt_reward\n",
    "collected_rewards = learner.reward_history"
   ]
  },
  {
   "cell_type": "markdown",
   "metadata": {},
   "source": [
    "- ### Salvo la history su file in modo che siamo sicuri ti riuscire a recuperarla anche in un secondo momento"
   ]
  },
  {
   "cell_type": "code",
   "execution_count": null,
   "metadata": {},
   "outputs": [],
   "source": [
    "with open('step3_rewards', 'wb') as f: \n",
    "    pickle.dump(collected_rewards, f)"
   ]
  },
  {
   "cell_type": "markdown",
   "metadata": {},
   "source": [
    "- ### Per recuperare, invece, i risultati ottenuti in un secondo momento :"
   ]
  },
  {
   "cell_type": "code",
   "execution_count": null,
   "metadata": {},
   "outputs": [],
   "source": [
    "with open('step3_rewards', 'rb') as f: \n",
    "    collected_rewards = pickle.load(f)"
   ]
  },
  {
   "cell_type": "markdown",
   "metadata": {},
   "source": [
    "- ### Cumulative Regret Plot"
   ]
  },
  {
   "cell_type": "code",
   "execution_count": null,
   "metadata": {},
   "outputs": [],
   "source": [
    "plt.figure(0)\n",
    "plt.xlabel(\"t (days)\")\n",
    "plt.ylabel(\"Cum_Regret(t)\")\n",
    "plt.title(\"Cumulative Regret\")\n",
    "plt.plot(np.cumsum(np.mean(opt_reward - collected_rewards, axis=0)), 'r')  #'r' stay for red, the color for the TS algorithm\n",
    "plt.legend([\"TS\"])\n",
    "plt.show()"
   ]
  },
  {
   "cell_type": "markdown",
   "metadata": {},
   "source": [
    "- ### Standard Deviation Plot"
   ]
  },
  {
   "cell_type": "code",
   "execution_count": null,
   "metadata": {},
   "outputs": [],
   "source": [
    "plt.figure(0)\n",
    "plt.xlabel(\"t (days)\")\n",
    "plt.title(\"Regret's Standard Deviation\")\n",
    "plt.plot(np.std(opt_reward - collected_rewards, axis=0), 'r')  #'r' stay for red, the color for the TS algorithm\n",
    "#plt.plot(np.std(opt - gr_rewards_per_experiment, axis=0), 'g')  #'g' stay for green, the color for the Greedy algorithm\n",
    "plt.legend([\"TS\"])\n",
    "plt.show()"
   ]
  },
  {
   "cell_type": "code",
   "execution_count": null,
   "metadata": {},
   "outputs": [],
   "source": [
    "# mean_R = np.mean(R, axis=0)\n",
    "cum_R = np.cumsum(opt_reward - collected_rewards, axis = 1)\n",
    "mean_cum_R = np.mean(cum_R, axis = 0)\n",
    "std_dev = np.std(cum_R, axis=0)/np.sqrt(n_runs)\n",
    "plt.plot(mean_cum_R)\n",
    "plt.fill_between(range(n_days), mean_cum_R-std_dev, mean_cum_R+std_dev, alpha=0.4)\n",
    "plt.title(\"Cumulative Regret and its Std. Deviation\")\n",
    "plt.xlabel(\"t (days)\")\n",
    "plt.ylabel(\"Cum_Regret(t)\")\n",
    "plt.show()"
   ]
  },
  {
   "cell_type": "markdown",
   "metadata": {},
   "source": [
    "- ### Comparison between Optimal and Expected Reward"
   ]
  },
  {
   "cell_type": "code",
   "execution_count": null,
   "metadata": {},
   "outputs": [],
   "source": [
    "plt.figure(0)\n",
    "plt.title(\"Optimal VS Expected Reward\")\n",
    "plt.axhline(opt_reward, color = 'green')\n",
    "plt.plot(np.mean(collected_rewards, axis=0))\n",
    "plt.legend([\"Optimal Reward\", \"Mean Expected Reward\"])\n",
    "plt.show()"
   ]
  },
  {
   "cell_type": "markdown",
   "metadata": {},
   "source": [
    "### Explore the istant regret in the collected runs of the step 3 learner"
   ]
  },
  {
   "cell_type": "code",
   "execution_count": null,
   "metadata": {},
   "outputs": [],
   "source": [
    "opt_reward = learner.opt_reward\n",
    "(opt_reward - collected_rewards)[-2][-20:]"
   ]
  },
  {
   "cell_type": "code",
   "execution_count": null,
   "metadata": {},
   "outputs": [],
   "source": [
    "learner.price_comb_history[-1][-20:]"
   ]
  },
  {
   "cell_type": "markdown",
   "metadata": {},
   "source": [
    "- ### Comparison between mean conversion rates estimated by last run of TS and real values"
   ]
  },
  {
   "cell_type": "code",
   "execution_count": null,
   "metadata": {},
   "outputs": [],
   "source": [
    "CR_mean = np.array(learner.cr_matrix_list).mean(axis = 0)\n",
    "i = 9\n",
    "CR_i = learner.cr_matrix_list[i]\n",
    "print(\"Mean of estimated conversion rates \\n\", CR_mean)\n",
    "\n",
    "print(\"\\nEstimated conversion rates for run %d \\n\" %i, CR_i)"
   ]
  },
  {
   "cell_type": "code",
   "execution_count": null,
   "metadata": {},
   "outputs": [],
   "source": [
    "np.matrix(env.theoretical_values['conversion_rates'][0])"
   ]
  },
  {
   "cell_type": "code",
   "execution_count": null,
   "metadata": {},
   "outputs": [],
   "source": [
    "# CODICE PER TESTARE SE UN PREZZO PER UN DETERMINATO PRODOTTO E' STATO \"ESPLORATO\" DALL'ALGORITMO\n",
    "comb_list = learner.price_comb_history[-1]\n",
    "count = 0\n",
    "prod = 0\n",
    "price = 0\n",
    "\n",
    "for comb in comb_list :\n",
    "    count += 1 if comb[prod] == price else 0\n",
    "\n",
    "count"
   ]
  },
  {
   "cell_type": "markdown",
   "metadata": {},
   "source": [
    "## - UCB1"
   ]
  },
  {
   "cell_type": "code",
   "execution_count": 28,
   "metadata": {},
   "outputs": [],
   "source": [
    "# setting the run parameters\n",
    "n_runs = 5\n",
    "daily_users = 200\n",
    "n_days = 300"
   ]
  },
  {
   "cell_type": "code",
   "execution_count": 31,
   "metadata": {},
   "outputs": [],
   "source": [
    "step3_ucb1_R = []\n",
    "step3_ucb1_collected_rewards = []\n",
    "opt_reward = env.optimal_reward()[0]\n",
    "for _ in range(n_runs):\n",
    "    ucb3 = step3_ucb1(daily_users, len(prices), len(prices[0]), prices, env)\n",
    "    instant_regret = []\n",
    "    step3_ucb1_collected_rewards_temp = []\n",
    "    for t in range(n_days):\n",
    "        pulled_arms = ucb3.pull_arms()\n",
    "        day_data = env.simulate_day(daily_users, pulled_arms, [\"conversion_rates\"])\n",
    "        cr_data = day_data[\"CR_data\"]\n",
    "        ucb3.update(pulled_arms, cr_data)\n",
    "        reward = env.expected_reward(pulled_arms)\n",
    "        step3_ucb1_collected_rewards_temp.append(reward)\n",
    "        instant_regret.append(opt_reward - reward)\n",
    "    step3_ucb1_collected_rewards.append(step3_ucb1_collected_rewards_temp)\n",
    "    cumulative_regret = np.cumsum(instant_regret)\n",
    "    step3_ucb1_R.append(cumulative_regret)"
   ]
  },
  {
   "cell_type": "code",
   "execution_count": 33,
   "metadata": {},
   "outputs": [],
   "source": [
    "# store the result\n",
    "with open(\"step3_ucb1_R\", 'wb') as f1:\n",
    "    pickle.dump(step3_ucb1_R, f1)\n",
    "with open(\"step3_ucb1_collected_rewards\", 'wb') as f1:\n",
    "    pickle.dump(step3_ucb1_collected_rewards, f1)"
   ]
  },
  {
   "cell_type": "code",
   "execution_count": 34,
   "metadata": {},
   "outputs": [],
   "source": [
    "# load the result\n",
    "with open(\"step3_ucb1_R\", 'rb') as f1:\n",
    "    step3_ucb1_R = pickle.load(f1)\n",
    "with open(\"step3_ucb1_collected_rewards\", 'rb') as f1:\n",
    "    step3_ucb1_collected_rewards = pickle.load(f1)"
   ]
  },
  {
   "cell_type": "code",
   "execution_count": 35,
   "metadata": {},
   "outputs": [
    {
     "data": {
      "text/plain": [
       "<matplotlib.collections.PolyCollection at 0x1f9a1de8400>"
      ]
     },
     "execution_count": 35,
     "metadata": {},
     "output_type": "execute_result"
    },
    {
     "data": {
      "image/png": "[encoded data removed]",
      "text/plain": [
       "<Figure size 432x288 with 1 Axes>"
      ]
     },
     "metadata": {
      "needs_background": "light"
     },
     "output_type": "display_data"
    }
   ],
   "source": [
    "# plot of the result\n",
    "mean_step3_ucb1_R = np.mean(step3_ucb1_R, axis=0)\n",
    "std_dev_step3_ucb1 = np.std(step3_ucb1_R, axis=0)/np.sqrt(n_runs)\n",
    "plt.plot(mean_step3_ucb1_R)\n",
    "plt.fill_between(range(n_days), mean_step3_ucb1_R-std_dev_step3_ucb1, mean_step3_ucb1_R+std_dev_step3_ucb1, alpha=0.4)"
   ]
  },
  {
   "cell_type": "code",
   "execution_count": 36,
   "metadata": {},
   "outputs": [
    {
     "data": {
      "image/png": "[encoded data removed]",
      "text/plain": [
       "<Figure size 432x288 with 1 Axes>"
      ]
     },
     "metadata": {
      "needs_background": "light"
     },
     "output_type": "display_data"
    }
   ],
   "source": [
    "# comparison between optimal and expected reward\n",
    "plt.figure(0)\n",
    "plt.title(\"Reward - Optimal vs Collected\")\n",
    "plt.axhline(opt_reward, color = 'green')\n",
    "plt.plot(np.mean(step3_ucb1_collected_rewards, axis=0))\n",
    "plt.legend([\"Optimal Reward\", \"Mean Collected Reward\"])\n",
    "plt.show()"
   ]
  },
  {
   "cell_type": "code",
   "execution_count": 37,
   "metadata": {},
   "outputs": [
    {
     "name": "stdout",
     "output_type": "stream",
     "text": [
      "Last n pulled arms:\n"
     ]
    },
    {
     "data": {
      "text/plain": [
       "[[0, 1, 2, 1, 0],\n",
       " [0, 1, 2, 1, 0],\n",
       " [0, 1, 2, 1, 0],\n",
       " [0, 1, 2, 0, 0],\n",
       " [0, 1, 2, 0, 0],\n",
       " [0, 1, 2, 0, 0],\n",
       " [0, 1, 2, 0, 0],\n",
       " [0, 1, 2, 0, 0],\n",
       " [0, 1, 2, 0, 0]]"
      ]
     },
     "execution_count": 37,
     "metadata": {},
     "output_type": "execute_result"
    }
   ],
   "source": [
    "# last n pulled arms\n",
    "print(\"Last n pulled arms:\")\n",
    "np.array(ucb3.pulled[-10:-1], dtype=np.int32)[:, 0].tolist()"
   ]
  },
  {
   "cell_type": "code",
   "execution_count": 39,
   "metadata": {},
   "outputs": [
    {
     "name": "stderr",
     "output_type": "stream",
     "text": [
      "C:\\Users\\stefa\\AppData\\Local\\Temp/ipykernel_17184/635266706.py:16: VisibleDeprecationWarning: Creating an ndarray from ragged nested sequences (which is a list-or-tuple of lists-or-tuples-or ndarrays with different lengths or shapes) is deprecated. If you meant to do this, you must specify 'dtype=object' when creating the ndarray.\n",
      "  result.append(x[np.argmax(np.array(x)[:, 1])])\n",
      "C:\\Users\\stefa\\AppData\\Local\\Temp/ipykernel_17184/635266706.py:17: VisibleDeprecationWarning: Creating an ndarray from ragged nested sequences (which is a list-or-tuple of lists-or-tuples-or ndarrays with different lengths or shapes) is deprecated. If you meant to do this, you must specify 'dtype=object' when creating the ndarray.\n",
      "  x = np.delete(x, np.argmax(np.array(x)[:, 1]), axis=0).tolist()\n",
      "C:\\Users\\stefa\\anaconda3\\lib\\site-packages\\numpy\\core\\_asarray.py:102: VisibleDeprecationWarning: Creating an ndarray from ragged nested sequences (which is a list-or-tuple of lists-or-tuples-or ndarrays with different lengths or shapes) is deprecated. If you meant to do this, you must specify 'dtype=object' when creating the ndarray.\n",
      "  return array(a, dtype, copy=False, order=order)\n"
     ]
    },
    {
     "name": "stdout",
     "output_type": "stream",
     "text": [
      "Optimal arms combination:\n",
      "[0, 1, 2, 1, 0] 10.325578532573228\n",
      "\n",
      "\n",
      "Ucb1 most pulled arms:\n",
      "(arms combination), (n° pulls), (exp rew)\n"
     ]
    },
    {
     "data": {
      "text/plain": [
       "[[[0, 1, 2, 1, 0], 55, 10.325578532573228],\n",
       " [[0, 1, 2, 0, 0], 46, 10.322790109653207],\n",
       " [[1, 1, 2, 0, 0], 33, 10.211331684267858],\n",
       " [[0, 2, 2, 0, 0], 26, 10.142877430469643],\n",
       " [[1, 1, 1, 1, 0], 21, 10.060645024657973],\n",
       " [[1, 1, 2, 1, 0], 19, 10.211778801621813],\n",
       " [[0, 2, 2, 1, 0], 14, 10.14662016402202],\n",
       " [[0, 1, 3, 0, 0], 9, 9.815021097468351],\n",
       " [[0, 2, 1, 1, 0], 7, 9.986988934645058],\n",
       " [[1, 1, 1, 2, 0], 6, 9.66329742227736],\n",
       " [[0, 1, 2, 0, 1], 4, 9.559497668024003],\n",
       " [[0, 1, 3, 1, 0], 4, 9.827616953215081],\n",
       " [[2, 1, 1, 1, 0], 3, 9.285967262651198],\n",
       " [[2, 1, 2, 1, 0], 3, 9.444511599264498],\n",
       " [[0, 1, 2, 2, 0], 2, 9.928722231644777],\n",
       " [[0, 2, 2, 2, 0], 2, 9.754731080947256],\n",
       " [[0, 3, 2, 0, 0], 2, 9.491158360801766],\n",
       " [[0, 3, 2, 1, 0], 2, 9.504920408374296],\n",
       " [[1, 1, 1, 2, 1], 2, 8.96698459306453],\n",
       " [[1, 1, 3, 1, 0], 2, 9.719241343747234]]"
      ]
     },
     "execution_count": 39,
     "metadata": {},
     "output_type": "execute_result"
    }
   ],
   "source": [
    "# ucb1 most pulled arms\n",
    "combinations_data = [[] for i in range(1024)]\n",
    "for i1 in range(4):\n",
    "    for i2 in range(4):\n",
    "        for i3 in range(4):\n",
    "            for i4 in range(4):\n",
    "                for i5 in range(4):\n",
    "                    combinations_data[i1*(4**4) + i2*(4**3) + i3*(4**2) + i4*(4**1) + i5*(4**0)].append([i1, i2, i3, i4, i5])\n",
    "                    c = np.array(np.array(ucb3.pulled, dtype=np.int32)[:, 0].tolist()) == [i1, i2, i3, i4, i5]\n",
    "                    c = np.prod(c, axis=1)\n",
    "                    combinations_data[i1*(4**4) + i2*(4**3) + i3*(4**2) + i4*(4**1) + i5*(4**0)].append(np.count_nonzero(c))\n",
    "                    combinations_data[i1*(4**4) + i2*(4**3) + i3*(4**2) + i4*(4**1) + i5*(4**0)].append(env.expected_reward([i1, i2, i3, i4, i5]))\n",
    "                    x = combinations_data\n",
    "result = []\n",
    "for i in range(20):\n",
    "    result.append(x[np.argmax(np.array(x)[:, 1])])\n",
    "    x = np.delete(x, np.argmax(np.array(x)[:, 1]), axis=0).tolist()\n",
    "print(\"Optimal arms combination:\")\n",
    "print(env.optimal_reward()[1], env.optimal_reward()[0])\n",
    "print(\"\\n\\nUcb1 most pulled arms:\")\n",
    "print(\"(arms combination), (n° pulls), (exp rew)\")\n",
    "result"
   ]
  },
  {
   "cell_type": "markdown",
   "metadata": {},
   "source": [
    "# STEP 4 : Uncertain conversion rates, alpha ratio and number of products sold"
   ]
  },
  {
   "cell_type": "markdown",
   "metadata": {},
   "source": [
    "## - TS"
   ]
  },
  {
   "cell_type": "code",
   "execution_count": 13,
   "metadata": {},
   "outputs": [],
   "source": [
    "# Initial assumptions for beta parameters (uniform distr. on [0, 1])\n",
    "a = np.ones((5,4))\n",
    "b = np.ones((5,4))\n",
    "initial_beta_CR = [a, b]\n",
    "initial_beta_alpha = np.ones((2,5))\n",
    "learner = Step4_TS(env, initial_beta_CR, initial_beta_alpha, learning_rate=0.5)"
   ]
  },
  {
   "cell_type": "code",
   "execution_count": 14,
   "metadata": {},
   "outputs": [],
   "source": [
    "# set the parameter for the algorithm execution\n",
    "n_runs = 200\n",
    "daily_users = 200\n",
    "n_days = 300\n",
    "\n",
    "# delete possible old informations form past runs \n",
    "learner.reward_history = []\n",
    "learner.price_comb_history = []\n",
    "learner.cr_matrix_list = []\n",
    "learner.alpha_ratios_list = []\n",
    "\n",
    "# execute the algorithm n_runs times\n",
    "for i in range(n_runs) :\n",
    "    learner.run(n_days, daily_users)\n",
    "\n",
    "# collect all informations for the plot\n",
    "opt_reward = learner.opt_reward\n",
    "collected_rewards = learner.reward_history"
   ]
  },
  {
   "cell_type": "markdown",
   "metadata": {},
   "source": [
    "- ### Cumulative Regret Plot"
   ]
  },
  {
   "cell_type": "code",
   "execution_count": 15,
   "metadata": {},
   "outputs": [
    {
     "data": {
      "image/png": "[encoded data removed]",
      "text/plain": [
       "<Figure size 432x288 with 1 Axes>"
      ]
     },
     "metadata": {
      "needs_background": "light"
     },
     "output_type": "display_data"
    }
   ],
   "source": [
    "plt.figure(0)\n",
    "plt.xlabel(\"t (days)\")\n",
    "plt.ylabel(\"Cum_Regret(t)\")\n",
    "plt.title(\"Cumulative Regret\")\n",
    "plt.plot(np.cumsum(np.mean(opt_reward - collected_rewards, axis=0)), 'r')  #'r' stay for red, the color for the TS algorithm\n",
    "plt.legend([\"TS\"])\n",
    "plt.show()"
   ]
  },
  {
   "cell_type": "markdown",
   "metadata": {},
   "source": [
    "- ### Standard Deviation Plot"
   ]
  },
  {
   "cell_type": "code",
   "execution_count": 16,
   "metadata": {},
   "outputs": [
    {
     "data": {
      "image/png": "[encoded data removed]",
      "text/plain": [
       "<Figure size 432x288 with 1 Axes>"
      ]
     },
     "metadata": {
      "needs_background": "light"
     },
     "output_type": "display_data"
    }
   ],
   "source": [
    "plt.figure(0)\n",
    "plt.xlabel(\"t (days)\")\n",
    "plt.title(\"Regret's Standard Deviation\")\n",
    "plt.plot(np.std(opt_reward - collected_rewards, axis=0), 'r')  #'r' stay for red, the color for the TS algorithm\n",
    "#plt.plot(np.std(opt - gr_rewards_per_experiment, axis=0), 'g')  #'g' stay for green, the color for the Greedy algorithm\n",
    "plt.legend([\"TS\"])\n",
    "plt.show()"
   ]
  },
  {
   "cell_type": "code",
   "execution_count": 17,
   "metadata": {},
   "outputs": [
    {
     "data": {
      "image/png": "[encoded data removed]",
      "text/plain": [
       "<Figure size 432x288 with 1 Axes>"
      ]
     },
     "metadata": {
      "needs_background": "light"
     },
     "output_type": "display_data"
    }
   ],
   "source": [
    "# mean_R = np.mean(R, axis=0)\n",
    "cum_R = np.cumsum(opt_reward - collected_rewards, axis = 1)\n",
    "mean_cum_R = np.mean(cum_R, axis = 0)\n",
    "std_dev = np.std(cum_R, axis=0)/np.sqrt(n_runs)\n",
    "plt.plot(mean_cum_R)\n",
    "plt.fill_between(range(n_days), mean_cum_R-std_dev, mean_cum_R+std_dev, alpha=0.4)\n",
    "plt.title(\"Cumulative Regret and its Std. Deviation\")\n",
    "plt.xlabel(\"t (days)\")\n",
    "plt.ylabel(\"Cum_Regret(t)\")\n",
    "plt.show()"
   ]
  },
  {
   "cell_type": "markdown",
   "metadata": {},
   "source": [
    "- ### Comparison between Optimal and Expected Reward"
   ]
  },
  {
   "cell_type": "code",
   "execution_count": 18,
   "metadata": {},
   "outputs": [
    {
     "data": {
      "image/png": "[encoded data removed]",
      "text/plain": [
       "<Figure size 432x288 with 1 Axes>"
      ]
     },
     "metadata": {
      "needs_background": "light"
     },
     "output_type": "display_data"
    }
   ],
   "source": [
    "plt.figure(0)\n",
    "plt.title(\"Optimal VS Expected Reward\")\n",
    "plt.axhline(opt_reward, color = 'green')\n",
    "plt.plot(np.mean(collected_rewards, axis=0))\n",
    "plt.legend([\"Optimal Reward\", \"Mean Expected Reward\"])\n",
    "plt.show()"
   ]
  },
  {
   "cell_type": "markdown",
   "metadata": {},
   "source": [
    "## - UCB1"
   ]
  },
  {
   "cell_type": "code",
   "execution_count": null,
   "metadata": {},
   "outputs": [],
   "source": [
    "# setting the run parameters\n",
    "n_runs = 2\n",
    "daily_users = 200\n",
    "n_days = 300"
   ]
  },
  {
   "cell_type": "code",
   "execution_count": null,
   "metadata": {},
   "outputs": [],
   "source": [
    "step4_ucb1_R = []\n",
    "step4_ucb1_collected_rewards = []\n",
    "opt_reward = env.optimal_reward()[0]\n",
    "for _ in range(n_runs):\n",
    "    ucb4 = step4_ucb1(daily_users, len(prices), len(prices[0]), prices, env)\n",
    "    instant_regret = []\n",
    "    step4_ucb1_collected_rewards_temp = []\n",
    "    for t in range(n_days):\n",
    "        pulled_arms = ucb4.pull_arms()\n",
    "        day_data = env.simulate_day(daily_users, pulled_arms, [\"conversion_rates\", \"alpha_ratios\", \"products_sold\"])\n",
    "        cr_data = day_data[\"CR_data\"]\n",
    "        alpha_data = day_data[\"initial_prod\"]\n",
    "        mean_prod_sold = day_data[\"mean_prod_sold\"]\n",
    "        ucb4.update(pulled_arms, cr_data, alpha_data, mean_prod_sold)\n",
    "        reward = env.expected_reward(pulled_arms)\n",
    "        step4_ucb1_collected_rewards_temp.append(reward)\n",
    "        instant_regret.append(opt_reward - reward)\n",
    "    step4_ucb1_collected_rewards.append(step4_ucb1_collected_rewards_temp)\n",
    "    cumulative_regret = np.cumsum(instant_regret)\n",
    "    step4_ucb1_R.append(cumulative_regret)"
   ]
  },
  {
   "cell_type": "code",
   "execution_count": null,
   "metadata": {},
   "outputs": [],
   "source": [
    "# store the result\n",
    "with open(\"step4_ucb1_R\", 'wb') as f1:\n",
    "    pickle.dump(step4_ucb1_R, f1)\n",
    "with open(\"step4_ucb1_collected_rewards\", 'wb') as f1:\n",
    "    pickle.dump(step4_ucb1_collected_rewards, f1)"
   ]
  },
  {
   "cell_type": "code",
   "execution_count": 24,
   "metadata": {},
   "outputs": [],
   "source": [
    "# load the result\n",
    "with open(\"step4_ucb1_R\", 'rb') as f1:\n",
    "    step4_ucb1_R = pickle.load(f1)\n",
    "with open(\"step4_ucb1_collected_rewards\", 'rb') as f1:\n",
    "    step4_ucb1_collected_rewards = pickle.load(f1)"
   ]
  },
  {
   "cell_type": "code",
   "execution_count": 25,
   "metadata": {},
   "outputs": [
    {
     "data": {
      "text/plain": [
       "<matplotlib.collections.PolyCollection at 0x1f9a1c7d0a0>"
      ]
     },
     "execution_count": 25,
     "metadata": {},
     "output_type": "execute_result"
    },
    {
     "data": {
      "image/png": "[encoded data removed]",
      "text/plain": [
       "<Figure size 432x288 with 1 Axes>"
      ]
     },
     "metadata": {
      "needs_background": "light"
     },
     "output_type": "display_data"
    }
   ],
   "source": [
    "# plot of the result\n",
    "mean_step4_ucb1_R = np.mean(step4_ucb1_R, axis=0)\n",
    "std_dev_step4_ucb1 = np.std(step4_ucb1_R, axis=0)/np.sqrt(n_runs)\n",
    "plt.plot(mean_step4_ucb1_R)\n",
    "plt.fill_between(range(n_days), mean_step4_ucb1_R-std_dev_step4_ucb1, mean_step4_ucb1_R+std_dev_step4_ucb1, alpha=0.4)"
   ]
  },
  {
   "cell_type": "code",
   "execution_count": 26,
   "metadata": {},
   "outputs": [
    {
     "data": {
      "image/png": "[encoded data removed]",
      "text/plain": [
       "<Figure size 432x288 with 1 Axes>"
      ]
     },
     "metadata": {
      "needs_background": "light"
     },
     "output_type": "display_data"
    }
   ],
   "source": [
    "# comparison between optimal and expected reward\n",
    "plt.figure(0)\n",
    "plt.title(\"Reward - Optimal vs Collected\")\n",
    "plt.axhline(opt_reward, color = 'green')\n",
    "plt.plot(np.mean(step4_ucb1_collected_rewards, axis=0))\n",
    "plt.legend([\"Optimal Reward\", \"Mean Collected Reward\"])\n",
    "plt.show()"
   ]
  },
  {
   "cell_type": "code",
   "execution_count": null,
   "metadata": {},
   "outputs": [],
   "source": [
    "# last n pulled arms\n",
    "print(\"Last n pulled arms:\")\n",
    "np.array(ucb4.pulled[-10:-1], dtype=np.int32)[:, 0].tolist()"
   ]
  },
  {
   "cell_type": "code",
   "execution_count": null,
   "metadata": {
    "scrolled": true
   },
   "outputs": [],
   "source": [
    "# ucb1 most pulled arms\n",
    "combinations_data = [[] for i in range(1024)]\n",
    "for i1 in range(4):\n",
    "    for i2 in range(4):\n",
    "        for i3 in range(4):\n",
    "            for i4 in range(4):\n",
    "                for i5 in range(4):\n",
    "                    combinations_data[i1*(4**4) + i2*(4**3) + i3*(4**2) + i4*(4**1) + i5*(4**0)].append([i1, i2, i3, i4, i5])\n",
    "                    c = np.array(np.array(ucb4.pulled, dtype=np.int32)[:, 0].tolist()) == [i1, i2, i3, i4, i5]\n",
    "                    c = np.prod(c, axis=1)\n",
    "                    combinations_data[i1*(4**4) + i2*(4**3) + i3*(4**2) + i4*(4**1) + i5*(4**0)].append(np.count_nonzero(c))\n",
    "                    combinations_data[i1*(4**4) + i2*(4**3) + i3*(4**2) + i4*(4**1) + i5*(4**0)].append(env.expected_reward([i1, i2, i3, i4, i5]))\n",
    "                    x = combinations_data\n",
    "result = []\n",
    "for i in range(50):\n",
    "    result.append(x[np.argmax(np.array(x)[:, 1])])\n",
    "    x = np.delete(x, np.argmax(np.array(x)[:, 1]), axis=0).tolist()\n",
    "print(\"Optimal arms combination:\")\n",
    "print(env.optimal_reward()[1], env.optimal_reward()[0])\n",
    "print(\"\\n\\nUcb1 most pulled arms:\")\n",
    "print(\"(arms combination), (n° pulls), (exp rew)\")\n",
    "result"
   ]
  },
  {
   "cell_type": "markdown",
   "metadata": {},
   "source": [
    "# STEP 5 : Uncertain conversion rates and graph weights"
   ]
  },
  {
   "cell_type": "markdown",
   "metadata": {},
   "source": [
    "## - TS"
   ]
  },
  {
   "cell_type": "markdown",
   "metadata": {},
   "source": [
    "## - UCB1"
   ]
  },
  {
   "cell_type": "code",
   "execution_count": 17,
   "metadata": {},
   "outputs": [],
   "source": [
    "# setting the run parameters\n",
    "n_runs = 2\n",
    "daily_users = 200\n",
    "n_days = 300"
   ]
  },
  {
   "cell_type": "code",
   "execution_count": 18,
   "metadata": {},
   "outputs": [],
   "source": [
    "step5_ucb1_R = []\n",
    "step5_ucb1_collected_rewards = []\n",
    "opt_reward = env.optimal_reward()[0]\n",
    "for _ in range(n_runs):\n",
    "    ucb5 = step5_ucb1(daily_users, len(prices), len(prices[0]), prices, env)\n",
    "    instant_regret = []\n",
    "    step5_ucb1_collected_rewards_temp = []\n",
    "    for t in range(n_days):\n",
    "        pulled_arms = ucb5.pull_arms()\n",
    "        day_data = env.simulate_day(daily_users, pulled_arms, [\"conversion_rates\", \"graph_weights\"])\n",
    "        cr_data = day_data[\"CR_data\"]\n",
    "        visualizations = day_data[\"visualizations\"]\n",
    "        clicks = day_data[\"clicks\"]\n",
    "        ucb5.update(pulled_arms, cr_data, visualizations, clicks)\n",
    "        reward = env.expected_reward(pulled_arms)\n",
    "        step5_ucb1_collected_rewards_temp.append(reward)\n",
    "        instant_regret.append(opt_reward - reward)\n",
    "    step5_ucb1_collected_rewards.append(step5_ucb1_collected_rewards_temp)\n",
    "    cumulative_regret = np.cumsum(instant_regret)\n",
    "    step5_ucb1_R.append(cumulative_regret)"
   ]
  },
  {
   "cell_type": "code",
   "execution_count": null,
   "metadata": {},
   "outputs": [],
   "source": [
    "# store the result\n",
    "with open(\"step5_ucb1_R\", 'wb') as f1:\n",
    "    pickle.dump(step5_ucb1_R, f1)\n",
    "with open(\"step5_ucb1_collected_rewards\", 'wb') as f1:\n",
    "    pickle.dump(step5_ucb1_collected_rewards, f1)"
   ]
  },
  {
   "cell_type": "code",
   "execution_count": null,
   "metadata": {},
   "outputs": [],
   "source": [
    "# load the result\n",
    "with open(\"step5_ucb1_R\", 'rb') as f1:\n",
    "    step5_ucb1_R = pickle.load(f1)\n",
    "with open(\"step5_ucb1_collected_rewards\", 'rb') as f1:\n",
    "    step5_ucb1_collected_rewards = pickle.load(f1)"
   ]
  },
  {
   "cell_type": "code",
   "execution_count": 19,
   "metadata": {},
   "outputs": [
    {
     "data": {
      "text/plain": [
       "array([[0.        , 0.60059967, 0.13710419, 0.        , 0.        ],\n",
       "       [0.5031091 , 0.        , 0.28413028, 0.        , 0.        ],\n",
       "       [0.        , 0.49888737, 0.        , 0.34616293, 0.        ],\n",
       "       [0.        , 0.        , 0.60569143, 0.        , 0.35738132],\n",
       "       [0.        , 0.        , 0.3049004 , 0.36015214, 0.        ]])"
      ]
     },
     "execution_count": 19,
     "metadata": {},
     "output_type": "execute_result"
    }
   ],
   "source": [
    "ucb5.graph_weights_means"
   ]
  },
  {
   "cell_type": "code",
   "execution_count": 20,
   "metadata": {},
   "outputs": [
    {
     "data": {
      "text/plain": [
       "<matplotlib.collections.PolyCollection at 0x1f9a1e51f10>"
      ]
     },
     "execution_count": 20,
     "metadata": {},
     "output_type": "execute_result"
    },
    {
     "data": {
      "image/png": "[encoded data removed]",
      "text/plain": [
       "<Figure size 432x288 with 1 Axes>"
      ]
     },
     "metadata": {
      "needs_background": "light"
     },
     "output_type": "display_data"
    }
   ],
   "source": [
    "# plot of the result\n",
    "mean_step5_ucb1_R = np.mean(step5_ucb1_R, axis=0)\n",
    "std_dev_step5_ucb1 = np.std(step5_ucb1_R, axis=0)/np.sqrt(n_runs)\n",
    "plt.plot(mean_step5_ucb1_R)\n",
    "plt.fill_between(range(n_days), mean_step5_ucb1_R-std_dev_step5_ucb1, mean_step5_ucb1_R+std_dev_step5_ucb1, alpha=0.4)"
   ]
  },
  {
   "cell_type": "code",
   "execution_count": 21,
   "metadata": {},
   "outputs": [
    {
     "data": {
      "image/png": "[encoded data removed]",
      "text/plain": [
       "<Figure size 432x288 with 1 Axes>"
      ]
     },
     "metadata": {
      "needs_background": "light"
     },
     "output_type": "display_data"
    }
   ],
   "source": [
    "# comparison between optimal and expected reward\n",
    "plt.figure(0)\n",
    "plt.title(\"Reward - Optimal vs Collected\")\n",
    "plt.axhline(opt_reward, color = 'green')\n",
    "plt.plot(np.mean(step5_ucb1_collected_rewards, axis=0))\n",
    "plt.legend([\"Optimal Reward\", \"Mean Collected Reward\"])\n",
    "plt.show()"
   ]
  },
  {
   "cell_type": "code",
   "execution_count": 22,
   "metadata": {},
   "outputs": [
    {
     "name": "stdout",
     "output_type": "stream",
     "text": [
      "Last n pulled arms:\n"
     ]
    },
    {
     "data": {
      "text/plain": [
       "[[0, 2, 2, 0, 0],\n",
       " [0, 1, 2, 1, 0],\n",
       " [1, 1, 1, 1, 0],\n",
       " [0, 1, 2, 1, 0],\n",
       " [0, 2, 2, 0, 0],\n",
       " [0, 1, 2, 1, 0],\n",
       " [1, 1, 2, 0, 0],\n",
       " [0, 1, 2, 1, 0],\n",
       " [1, 1, 2, 0, 0]]"
      ]
     },
     "execution_count": 22,
     "metadata": {},
     "output_type": "execute_result"
    }
   ],
   "source": [
    "# last n pulled arms\n",
    "print(\"Last n pulled arms:\")\n",
    "np.array(ucb5.pulled[-10:-1], dtype=np.int32)[:, 0].tolist()"
   ]
  },
  {
   "cell_type": "code",
   "execution_count": 23,
   "metadata": {
    "scrolled": true
   },
   "outputs": [
    {
     "name": "stderr",
     "output_type": "stream",
     "text": [
      "C:\\Users\\stefa\\AppData\\Local\\Temp/ipykernel_17184/2204951151.py:16: VisibleDeprecationWarning: Creating an ndarray from ragged nested sequences (which is a list-or-tuple of lists-or-tuples-or ndarrays with different lengths or shapes) is deprecated. If you meant to do this, you must specify 'dtype=object' when creating the ndarray.\n",
      "  result.append(x[np.argmax(np.array(x)[:, 1])])\n",
      "C:\\Users\\stefa\\AppData\\Local\\Temp/ipykernel_17184/2204951151.py:17: VisibleDeprecationWarning: Creating an ndarray from ragged nested sequences (which is a list-or-tuple of lists-or-tuples-or ndarrays with different lengths or shapes) is deprecated. If you meant to do this, you must specify 'dtype=object' when creating the ndarray.\n",
      "  x = np.delete(x, np.argmax(np.array(x)[:, 1]), axis=0).tolist()\n",
      "C:\\Users\\stefa\\anaconda3\\lib\\site-packages\\numpy\\core\\_asarray.py:102: VisibleDeprecationWarning: Creating an ndarray from ragged nested sequences (which is a list-or-tuple of lists-or-tuples-or ndarrays with different lengths or shapes) is deprecated. If you meant to do this, you must specify 'dtype=object' when creating the ndarray.\n",
      "  return array(a, dtype, copy=False, order=order)\n"
     ]
    },
    {
     "name": "stdout",
     "output_type": "stream",
     "text": [
      "Optimal arms combination:\n",
      "[0, 1, 2, 1, 0] 10.325578532573228\n",
      "\n",
      "\n",
      "Ucb1 most pulled arms:\n",
      "(arms combination), (n° pulls), (exp rew)\n"
     ]
    },
    {
     "data": {
      "text/plain": [
       "[[[0, 1, 2, 1, 0], 75, 10.325578532573228],\n",
       " [[1, 1, 2, 0, 0], 32, 10.211331684267858],\n",
       " [[1, 1, 2, 1, 0], 30, 10.211778801621813],\n",
       " [[1, 1, 1, 1, 0], 21, 10.060645024657973],\n",
       " [[0, 1, 2, 0, 0], 18, 10.322790109653207],\n",
       " [[0, 2, 2, 1, 0], 18, 10.14662016402202],\n",
       " [[0, 1, 3, 0, 0], 15, 9.815021097468351],\n",
       " [[0, 2, 2, 0, 0], 13, 10.142877430469643],\n",
       " [[0, 2, 1, 1, 0], 6, 9.986988934645058],\n",
       " [[0, 1, 3, 1, 0], 5, 9.827616953215081],\n",
       " [[0, 3, 2, 1, 0], 5, 9.504920408374296],\n",
       " [[0, 1, 2, 2, 0], 4, 9.928722231644777],\n",
       " [[1, 1, 1, 2, 0], 4, 9.66329742227736],\n",
       " [[0, 1, 1, 2, 0], 2, 9.765016314040736],\n",
       " [[0, 2, 1, 2, 0], 2, 9.594087479886714],\n",
       " [[0, 3, 1, 1, 0], 2, 9.317806404610206],\n",
       " [[0, 3, 1, 2, 0], 2, 8.94090200446857],\n",
       " [[1, 1, 2, 2, 0], 2, 9.81633939742729],\n",
       " [[1, 1, 3, 0, 0], 2, 9.708276948422771],\n",
       " [[1, 1, 3, 1, 0], 2, 9.719241343747234],\n",
       " [[1, 2, 2, 2, 0], 2, 9.6388063570291],\n",
       " [[2, 1, 1, 1, 0], 2, 9.285967262651198],\n",
       " [[2, 1, 2, 0, 0], 2, 9.440649228397852],\n",
       " [[2, 1, 2, 1, 0], 2, 9.444511599264498],\n",
       " [[0, 1, 1, 1, 0], 1, 10.164138328321583],\n",
       " [[0, 1, 1, 1, 1], 1, 9.424618082853659],\n",
       " [[0, 1, 2, 0, 1], 1, 9.559497668024003],\n",
       " [[0, 1, 2, 3, 0], 1, 8.60645738558453],\n",
       " [[0, 1, 3, 0, 1], 1, 9.087585847147599],\n",
       " [[0, 1, 3, 2, 0], 1, 9.466046927041852],\n",
       " [[0, 2, 1, 1, 3], 1, 8.084442158044608],\n",
       " [[0, 2, 2, 2, 0], 1, 9.754731080947256],\n",
       " [[0, 3, 1, 2, 3], 1, 7.176847399774409],\n",
       " [[0, 3, 2, 0, 0], 1, 9.491158360801766],\n",
       " [[1, 1, 1, 1, 2], 1, 8.879459335165166],\n",
       " [[1, 1, 1, 3, 0], 1, 8.317294256511017],\n",
       " [[1, 1, 2, 0, 1], 1, 9.448525397609073],\n",
       " [[1, 1, 2, 0, 2], 1, 8.990705136267186],\n",
       " [[1, 1, 2, 0, 3], 1, 8.232293265754892],\n",
       " [[1, 1, 2, 1, 1], 1, 9.469979502917822],\n",
       " [[1, 1, 2, 3, 0], 1, 8.500949767589123],\n",
       " [[1, 1, 3, 0, 2], 1, 8.542069223389973],\n",
       " [[1, 1, 3, 1, 2], 1, 8.585512732371049],\n",
       " [[1, 2, 2, 1, 2], 1, 8.851885905174196],\n",
       " [[1, 2, 2, 2, 1], 1, 8.942537654021292],\n",
       " [[1, 2, 3, 1, 0], 1, 9.557890516960835],\n",
       " [[1, 3, 2, 1, 1], 1, 8.682051873440667],\n",
       " [[2, 1, 2, 2, 0], 1, 9.056073333372513],\n",
       " [[2, 1, 2, 2, 1], 1, 8.361799425993256],\n",
       " [[2, 2, 2, 1, 0], 1, 9.306116779323002]]"
      ]
     },
     "execution_count": 23,
     "metadata": {},
     "output_type": "execute_result"
    }
   ],
   "source": [
    "# ucb1 most pulled arms\n",
    "combinations_data = [[] for i in range(1024)]\n",
    "for i1 in range(4):\n",
    "    for i2 in range(4):\n",
    "        for i3 in range(4):\n",
    "            for i4 in range(4):\n",
    "                for i5 in range(4):\n",
    "                    combinations_data[i1*(4**4) + i2*(4**3) + i3*(4**2) + i4*(4**1) + i5*(4**0)].append([i1, i2, i3, i4, i5])\n",
    "                    c = np.array(np.array(ucb5.pulled, dtype=np.int32)[:, 0].tolist()) == [i1, i2, i3, i4, i5]\n",
    "                    c = np.prod(c, axis=1)\n",
    "                    combinations_data[i1*(4**4) + i2*(4**3) + i3*(4**2) + i4*(4**1) + i5*(4**0)].append(np.count_nonzero(c))\n",
    "                    combinations_data[i1*(4**4) + i2*(4**3) + i3*(4**2) + i4*(4**1) + i5*(4**0)].append(env.expected_reward([i1, i2, i3, i4, i5]))\n",
    "                    x = combinations_data\n",
    "result = []\n",
    "for i in range(50):\n",
    "    result.append(x[np.argmax(np.array(x)[:, 1])])\n",
    "    x = np.delete(x, np.argmax(np.array(x)[:, 1]), axis=0).tolist()\n",
    "print(\"Optimal arms combination:\")\n",
    "print(env.optimal_reward()[1], env.optimal_reward()[0])\n",
    "print(\"\\n\\nUcb1 most pulled arms:\")\n",
    "print(\"(arms combination), (n° pulls), (exp rew)\")\n",
    "result"
   ]
  }
 ],
 "metadata": {
  "kernelspec": {
   "display_name": "Python 3 (ipykernel)",
   "language": "python",
   "name": "python3"
  },
  "language_info": {
   "codemirror_mode": {
    "name": "ipython",
    "version": 3
   },
   "file_extension": ".py",
   "mimetype": "text/x-python",
   "name": "python",
   "nbconvert_exporter": "python",
   "pygments_lexer": "ipython3",
   "version": "3.9.7"
  },
  "vscode": {
   "interpreter": {
    "hash": "aee8b7b246df8f9039afb4144a1f6fd8d2ca17a180786b69acc140d282b71a49"
   }
  }
 },
 "nbformat": 4,
 "nbformat_minor": 4
}
