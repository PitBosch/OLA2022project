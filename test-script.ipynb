{
 "cells": [
  {
   "cell_type": "markdown",
   "metadata": {},
   "source": [
    "# LIBRARIES"
   ]
  },
  {
   "cell_type": "code",
   "execution_count": 3,
   "metadata": {},
   "outputs": [],
   "source": [
    "import pickle\n",
    "from Environment import Environment\n",
    "from UserCat import UserCat\n",
    "from Product import Product\n",
    "from Greedy_optimizer import *\n",
    "import numpy as np\n",
    "import matplotlib.pyplot as plt\n",
    "from ucb1_greedy import *"
   ]
  },
  {
   "cell_type": "markdown",
   "metadata": {},
   "source": [
    "# ENVIRONMENT DEFINITION "
   ]
  },
  {
   "cell_type": "markdown",
   "metadata": {},
   "source": [
    "- Environment fixed informations and Products definition"
   ]
  },
  {
   "cell_type": "code",
   "execution_count": 5,
   "metadata": {},
   "outputs": [],
   "source": [
    "np.random.seed(1)\n",
    "\n",
    "products=[]\n",
    "\n",
    "nameofproduct= [ #name of products\n",
    "    \"Calabazas\",\n",
    "    \"Hinojo\",\n",
    "    \"Sesamo\",\n",
    "    \"Girasol\",\n",
    "    \"Amapola\"\n",
    "]\n",
    "# Dictionary fixing the secondary products linked to \n",
    "secondary_dict= {        \n",
    "    \"Calabazas\": [1,2],\n",
    "    \"Hinojo\": [0,2],\n",
    "    \"Sesamo\": [1,3],\n",
    "    \"Girasol\": [2,4],\n",
    "    \"Amapola\": [2,3]\n",
    "}\n",
    "# Matrix n_prod*n_prices collecting the possible prices for each product. Prices are in ascending order\n",
    "prices = [[8., 9, 10, 11],\n",
    "          [10., 13, 16, 19],\n",
    "          [20., 23, 27, 31],\n",
    "          [28., 31, 35, 39],\n",
    "          [40., 43, 46, 49]]\n",
    "# Production cost of the products\n",
    "cost = [1.3, 1.8, 2.1, 3.5, 6]\n",
    "\n",
    "#sarebbe interessante anche prendere da file il tutto così da cambiare tutto più facilmente\n",
    "#calcolo i margini dai cost mi sembra più sensato e anche più veloce se dobbiamo cambiare continuamente\n",
    "# Computation of margins linked to each product for a particular choice of price\n",
    "cost2 = np.tile(np.array([cost]).transpose(), (1, 4))\n",
    "margins = np.array(prices)-cost2\n",
    "# Creation of the 5 objects of Product class\n",
    "for i in range (5):\n",
    "    products.append(Product(prices[i], i, nameofproduct[i],margins[i]))\n",
    "\n",
    "# Parameter for the computation of the click probability on the SECOND secondary product\n",
    "lambda_q = 0.7"
   ]
  },
  {
   "cell_type": "markdown",
   "metadata": {},
   "source": [
    "- User Category 1: Young and Inexpert"
   ]
  },
  {
   "cell_type": "code",
   "execution_count": 6,
   "metadata": {},
   "outputs": [],
   "source": [
    "# Parameters for the distribution describing the reservation price\n",
    "res_price_params_1 = {\n",
    "    \"mean\": [9, 15, 22, 33, 35],\n",
    "    \"std\": [1, 2, 1, 1.5, 1.5]\n",
    "}\n",
    "# Matrix collecting the graph_weights describing mechanism of click on secondary products\n",
    "probabilities_1 = [[0, 0.7, 0.3, 0, 0],\n",
    "                 [0.6, 0, 0.5, 0, 0],\n",
    "                 [0, 0.7, 0, 0.3, 0],\n",
    "                 [0, 0, 0.4, 0, 0.1],\n",
    "                 [0.5, 0, 0.3, 0, 0]]\n",
    "probabilities_1 = np.matrix(probabilities_1)\n",
    "# Parameter of the Dirichlet for the alphas ratio sampling\n",
    "alphas_1 = [15, 15, 10, 5, 5]\n",
    "# Parameter of the Poisson distribution determining the number of product bought\n",
    "# ! we considered a trasleted Poisson in 1, to avoid the case of 0 items bought, so\n",
    "#   the mean is poisson_lambda+1\n",
    "poisson_lambda_1 = 4\n",
    "\n",
    "user1 = UserCat(alphas_1, res_price_params_1, poisson_lambda_1, probabilities_1)"
   ]
  },
  {
   "cell_type": "markdown",
   "metadata": {},
   "source": [
    "- User Category 2: Old and Inexpert"
   ]
  },
  {
   "cell_type": "code",
   "execution_count": 7,
   "metadata": {},
   "outputs": [],
   "source": [
    "# Parameters for the distribution describing the reservation price\n",
    "res_price_params_2 = {\n",
    "    \"mean\": [9, 16, 25, 41, 47],\n",
    "    \"std\": [1, 2.5, 1.5, 3, 2]\n",
    "}\n",
    "# Matrix collecting the graph_weights describing mechanism of click on secondary products\n",
    "probabilities_2 = [[0, 0.5, 0.4, 0, 0],\n",
    "                 [0.4, 0, 0.6, 0, 0],\n",
    "                 [0, 0.7, 0, 0.5, 0],\n",
    "                 [0, 0, 0.5, 0, 0.3],\n",
    "                 [0, 0, 0.5, 0.3, 0]]\n",
    "probabilities_2 = np.matrix(probabilities_2)\n",
    "# Parameter of the Dirichlet for the alphas ratio sampling\n",
    "alphas_2 = [7, 12, 12, 12, 7]\n",
    "# Parameter of the Poisson distribution determining the number of product bought\n",
    "# ! we considered a trasleted Poisson in 1, to avoid the case of 0 items bought, so\n",
    "#   the mean is poisson_lambda+1\n",
    "poisson_lambda_2 = 3\n",
    "\n",
    "user2 = UserCat(alphas_2, res_price_params_2, poisson_lambda_2, probabilities_2)"
   ]
  },
  {
   "cell_type": "markdown",
   "metadata": {},
   "source": [
    "- User Category 3: Expert"
   ]
  },
  {
   "cell_type": "code",
   "execution_count": 8,
   "metadata": {},
   "outputs": [],
   "source": [
    "# Parameters for the distribution describing the reservation price\n",
    "res_price_params_3 = {\n",
    "    \"mean\": [8, 13, 24, 39, 50],\n",
    "    \"std\": [1, 1.5, 2, 2, 1.5]\n",
    "}\n",
    "# Matrix collecting the graph_weights describing mechanism of click on secondary products\n",
    "probabilities_3 = [[0, 0, 0.6, 0.4, 0],\n",
    "                 [0, 0, 0, 0.7, 0.4],\n",
    "                 [0, 0.4, 0, 0.6, 0],\n",
    "                 [0, 0, 0.3, 0, 0.7],\n",
    "                 [0, 0, 0.4, 0.6, 0]]\n",
    "probabilities_3 = np.matrix(probabilities_3)\n",
    "# Parameter of the Dirichlet for the alphas ratio sampling\n",
    "alphas_3 = [5, 5, 10, 15, 15]\n",
    "# Parameter of the Poisson distribution determining the number of product bought\n",
    "# ! we considered a trasleted Poisson in 1, to avoid the case of 0 items bought, so\n",
    "#   the mean is poisson_lambda+1\n",
    "poisson_lambda_3 = 1\n",
    "\n",
    "user3 = UserCat(alphas_3, res_price_params_3, poisson_lambda_3, probabilities_3)"
   ]
  },
  {
   "cell_type": "markdown",
   "metadata": {},
   "source": [
    "- User Category 0: Aggregated demand"
   ]
  },
  {
   "cell_type": "code",
   "execution_count": 9,
   "metadata": {},
   "outputs": [],
   "source": [
    "# Parameters for the distribution describing the reservation price\n",
    "res_price_params_0 = {\n",
    "    \"mean\": [8.7, 14.7, 23.5, 37.2, 43.1],\n",
    "    \"std\": [1, 1.5, 3, 1.5, 2]\n",
    "}\n",
    "# Matrix collecting the graph_weights describing mechanism of click on secondary products\n",
    "probabilities_0 = [[0, 0.6, 0.2, 0, 0],\n",
    "                 [0.5, 0, 0.4, 0, 0],\n",
    "                 [0, 0.5, 0, 0.5, 0],\n",
    "                 [0, 0, 0.6, 0, 0.5],\n",
    "                 [0, 0, 0.3, 0.5, 0]]\n",
    "probabilities_0 = np.matrix(probabilities_0)\n",
    "# Parameter of the Dirichlet for the alphas ratio sampling\n",
    "alphas_0 = [10, 10, 10, 10, 10]\n",
    "# Parameter of the Poisson distribution determining the number of product bought\n",
    "# ! we considered a trasleted Poisson in 1, to avoid the case of 0 items bought, so\n",
    "#   the mean is poisson_lambda+1\n",
    "poisson_lambda_0 = 3\n",
    "\n",
    "user0 = UserCat(alphas_0, res_price_params_0, poisson_lambda_0, probabilities_0)"
   ]
  },
  {
   "cell_type": "markdown",
   "metadata": {},
   "source": [
    "- Environment creation"
   ]
  },
  {
   "cell_type": "code",
   "execution_count": 10,
   "metadata": {},
   "outputs": [],
   "source": [
    "# list of users \n",
    "#users = [user1, user2, user3]\n",
    "users = [user0]\n",
    "# probability distribution of the users\n",
    "#p_users = [1/3, 1/3, 1/3]\n",
    "p_users = [1]\n",
    "\n",
    "env = Environment(users, products, lambda_q, secondary_dict, p_users)"
   ]
  },
  {
   "cell_type": "code",
   "execution_count": 11,
   "metadata": {},
   "outputs": [
    {
     "data": {
      "text/plain": [
       "(137.69147031953702, [0, 1, 0, 2, 0])"
      ]
     },
     "execution_count": 11,
     "metadata": {},
     "output_type": "execute_result"
    }
   ],
   "source": [
    "env.optimal_reward()"
   ]
  },
  {
   "cell_type": "code",
   "execution_count": 12,
   "metadata": {},
   "outputs": [
    {
     "data": {
      "text/plain": [
       "70.97074263741698"
      ]
     },
     "execution_count": 12,
     "metadata": {},
     "output_type": "execute_result"
    }
   ],
   "source": [
    "env.expected_reward([2,3,2,1,0])"
   ]
  },
  {
   "cell_type": "code",
   "execution_count": 13,
   "metadata": {},
   "outputs": [
    {
     "data": {
      "text/plain": [
       "matrix([[0.75803635, 0.38208858, 0.09680048, 0.01072411],\n",
       "        [0.99913583, 0.87146285, 0.19306234, 0.0020741 ],\n",
       "        [0.8783275 , 0.56618383, 0.1216725 , 0.00620967],\n",
       "        [1.        , 0.99998212, 0.92876662, 0.11506967],\n",
       "        [0.93942924, 0.51993881, 0.07352926, 0.00158887]])"
      ]
     },
     "execution_count": 13,
     "metadata": {},
     "output_type": "execute_result"
    }
   ],
   "source": [
    "np.matrix(env.theoretical_values['conversion_rates'][0])"
   ]
  },
  {
   "cell_type": "code",
   "execution_count": 14,
   "metadata": {},
   "outputs": [
    {
     "data": {
      "text/plain": [
       "{'CR_data': array([[ 713., 1024.,  960.,  578.,  424.],\n",
       "        [ 935., 1026., 1070.,  578.,  450.]]),\n",
       " 'initial_prod': array([568., 367., 554., 224., 291.]),\n",
       " 'n_prod_sold': array([[2846., 3997., 3724., 2225., 1677.],\n",
       "        [ 713., 1024.,  960.,  578.,  424.]]),\n",
       " 'clicks': array([[  0., 277.,  77.,   0.,   0.],\n",
       "        [367.,   0., 165.,   0.,   0.],\n",
       "        [  0., 382.,   0., 269.,   0.],\n",
       "        [  0.,   0., 177.,   0., 159.],\n",
       "        [  0.,   0.,  97.,  85.,   0.]]),\n",
       " 'visualizations': array([[  0., 440., 495.,   0.,   0.],\n",
       "        [737.,   0., 623.,   0.,   0.],\n",
       "        [  0., 761.,   0., 788.,   0.],\n",
       "        [  0.,   0., 288.,   0., 465.],\n",
       "        [  0.,   0., 298., 245.,   0.]]),\n",
       " 'CR_vector': array([0.76256684, 0.99805068, 0.89719626, 1.        , 0.94222222]),\n",
       " 'alpha_ratios': array([0.28343313, 0.18313373, 0.27644711, 0.11177645, 0.14520958]),\n",
       " 'mean_prod_sold': array([3.99158485, 3.90332031, 3.87916666, 3.84948096, 3.95518867]),\n",
       " 'graph_weights': array([[0.        , 0.62954545, 0.15555556, 0.        , 0.        ],\n",
       "        [0.49796472, 0.        , 0.26484751, 0.        , 0.        ],\n",
       "        [0.        , 0.50197109, 0.        , 0.34137056, 0.        ],\n",
       "        [0.        , 0.        , 0.61458333, 0.        , 0.34193548],\n",
       "        [0.        , 0.        , 0.32550335, 0.34693877, 0.        ]])}"
      ]
     },
     "execution_count": 14,
     "metadata": {},
     "output_type": "execute_result"
    }
   ],
   "source": [
    "np.random.seed(0)\n",
    "a = env.simulate_day(2000, [0,0,0,0,0], [\"conversion_rates\", \"alpha_ratios\", \"products_sold\", \"graph_weights\"])\n",
    "a\n"
   ]
  },
  {
   "cell_type": "code",
   "execution_count": 15,
   "metadata": {},
   "outputs": [
    {
     "data": {
      "text/plain": [
       "{'CR_data': array([[ 713., 1024.,  960.,  578.,  424.],\n",
       "        [ 935., 1026., 1070.,  578.,  450.]]),\n",
       " 'initial_prod': array([568., 367., 554., 224., 291.]),\n",
       " 'n_prod_sold': array([[2846., 3997., 3724., 2225., 1677.],\n",
       "        [ 713., 1024.,  960.,  578.,  424.]]),\n",
       " 'graph_weights': array([[0.        , 0.62954545, 0.15555556, 0.        , 0.        ],\n",
       "        [0.49796472, 0.        , 0.26484751, 0.        , 0.        ],\n",
       "        [0.        , 0.50197109, 0.        , 0.34137056, 0.        ],\n",
       "        [0.        , 0.        , 0.61458333, 0.        , 0.34193548],\n",
       "        [0.        , 0.        , 0.32550335, 0.34693877, 0.        ]]),\n",
       " 'visualizations': array([[  0., 440., 495.,   0.,   0.],\n",
       "        [737.,   0., 623.,   0.,   0.],\n",
       "        [  0., 761.,   0., 788.,   0.],\n",
       "        [  0.,   0., 288.,   0., 465.],\n",
       "        [  0.,   0., 298., 245.,   0.]]),\n",
       " 'clicks': array([[  0., 277.,  77.,   0.,   0.],\n",
       "        [367.,   0., 165.,   0.,   0.],\n",
       "        [  0., 382.,   0., 269.,   0.],\n",
       "        [  0.,   0., 177.,   0., 159.],\n",
       "        [  0.,   0.,  97.,  85.,   0.]]),\n",
       " 'CR_vector': array([0.76256684, 0.99805068, 0.89719626, 1.        , 0.94222222]),\n",
       " 'alpha_ratios': array([0.28343313, 0.18313373, 0.27644711, 0.11177645, 0.14520958]),\n",
       " 'mean_prod_sold': array([3.99158485, 3.90332031, 3.87916666, 3.84948096, 3.95518867])}"
      ]
     },
     "execution_count": 15,
     "metadata": {},
     "output_type": "execute_result"
    }
   ],
   "source": [
    "np.random.seed(0)\n",
    "a = env.simulate_day(2000, [0,0,0,0,0], [\"conversion_rates\", \"alpha_ratios\", \"products_sold\", \"graph_weights\"], aggregated= False)\n",
    "a"
   ]
  },
  {
   "cell_type": "markdown",
   "metadata": {},
   "source": [
    "- Reservation Price Distribution Plot for one user"
   ]
  },
  {
   "cell_type": "code",
   "execution_count": 16,
   "metadata": {},
   "outputs": [
    {
     "data": {
      "image/png": "[encoded data removed]",
      "text/plain": [
       "<Figure size 864x504 with 1 Axes>"
      ]
     },
     "metadata": {
      "needs_background": "light"
     },
     "output_type": "display_data"
    }
   ],
   "source": [
    "user_index = 0\n",
    "x = np.arange(0, 60 , .01)\n",
    "plt.figure(figsize=(12,7))\n",
    "\n",
    "color_list = ['blue', 'orange', 'green', 'red', 'purple']\n",
    "\n",
    "for i in range(5):\n",
    "    res_price_distr = env.users[user_index].res_price_distr[i]\n",
    "    y = res_price_distr.pdf(x)\n",
    "    plt.plot(x, y, label = 'Product %d' %i, color = color_list[i])\n",
    "\n",
    "for i in range(5):\n",
    "    for j in range(4):\n",
    "        plt.scatter(prices[i][j], 0.025, color = color_list[i])\n",
    "\n",
    "plt.title(\"Reservation Price Distributions for the user category %s\" %env.users[user_index].category)\n",
    "plt.legend()\n",
    "plt.show()"
   ]
  },
  {
   "cell_type": "markdown",
   "metadata": {},
   "source": [
    "# Greedy Algorithm Example"
   ]
  },
  {
   "cell_type": "code",
   "execution_count": 17,
   "metadata": {},
   "outputs": [
    {
     "data": {
      "text/plain": [
       "{'expected_reward': 137.69147031953702, 'combination': [0, 1, 0, 2, 0]}"
      ]
     },
     "execution_count": 17,
     "metadata": {},
     "output_type": "execute_result"
    }
   ],
   "source": [
    "greedy_optimizer = Greedy_optimizer(env)\n",
    "greedy_optimizer.run()"
   ]
  },
  {
   "cell_type": "code",
   "execution_count": 18,
   "metadata": {},
   "outputs": [
    {
     "data": {
      "text/plain": [
       "(137.69147031953702, [0, 1, 0, 2, 0])"
      ]
     },
     "execution_count": 18,
     "metadata": {},
     "output_type": "execute_result"
    }
   ],
   "source": [
    "env.optimal_reward()"
   ]
  },
  {
   "cell_type": "markdown",
   "metadata": {},
   "source": [
    "# STEP 3 : Uncertain Convertion Rates"
   ]
  },
  {
   "cell_type": "code",
   "execution_count": 19,
   "metadata": {},
   "outputs": [],
   "source": [
    "from step3_learner import TS_learner3"
   ]
  },
  {
   "cell_type": "code",
   "execution_count": 20,
   "metadata": {},
   "outputs": [],
   "source": [
    "# Initial assumptions for beta parameters (uniform distr. on [0, 1])\n",
    "a = np.ones((5,4))\n",
    "b = np.ones((5,4))\n",
    "initial_beta = [a, b]\n",
    "learner = TS_learner3(initial_beta, env, learning_rate = 0.5)"
   ]
  },
  {
   "cell_type": "code",
   "execution_count": 24,
   "metadata": {},
   "outputs": [],
   "source": [
    "n_runs = 200\n",
    "daily_users = 200\n",
    "n_days = 300"
   ]
  },
  {
   "cell_type": "code",
   "execution_count": 28,
   "metadata": {},
   "outputs": [],
   "source": [
    "# delete possible old reward_history\n",
    "learner.reward_history = []\n",
    "learner.price_comb_history = []\n",
    "learner.cr_matrix_list = []\n",
    "\n",
    "for i in range(n_runs) :\n",
    "    learner.run(n_days, daily_users)"
   ]
  },
  {
   "cell_type": "code",
   "execution_count": 21,
   "metadata": {},
   "outputs": [],
   "source": [
    "opt_reward = learner.opt_reward\n",
    "collected_rewards = learner.reward_history"
   ]
  },
  {
   "cell_type": "markdown",
   "metadata": {},
   "source": [
    "- ## Salvo la history su file in modo che siamo sicuri ti riuscire a recuperarla anche in un secondo momento"
   ]
  },
  {
   "cell_type": "code",
   "execution_count": null,
   "metadata": {},
   "outputs": [],
   "source": [
    "with open('step3_rewards', 'wb') as f: \n",
    "    pickle.dump(collected_rewards, f)"
   ]
  },
  {
   "cell_type": "markdown",
   "metadata": {},
   "source": [
    "- ## Per recuperare, invece, i risultati ottenuti in un secondo momento :"
   ]
  },
  {
   "cell_type": "code",
   "execution_count": null,
   "metadata": {},
   "outputs": [],
   "source": [
    "with open('step3_rewards', 'rb') as f: \n",
    "    collected_rewards = pickle.load(f)"
   ]
  },
  {
   "cell_type": "markdown",
   "metadata": {},
   "source": [
    "- ## Cumulative Regret Plot"
   ]
  },
  {
   "cell_type": "code",
   "execution_count": 29,
   "metadata": {},
   "outputs": [
    {
     "data": {
      "image/png": "[encoded data removed]",
      "text/plain": [
       "<Figure size 432x288 with 1 Axes>"
      ]
     },
     "metadata": {
      "needs_background": "light"
     },
     "output_type": "display_data"
    }
   ],
   "source": [
    "plt.figure(0)\n",
    "plt.xlabel(\"t (days)\")\n",
    "plt.ylabel(\"Cum_Regret(t)\")\n",
    "plt.title(\"Cumulative Regret\")\n",
    "plt.plot(np.cumsum(np.mean(opt_reward - collected_rewards, axis=0)), 'r')  #'r' stay for red, the color for the TS algorithm\n",
    "plt.legend([\"TS\"])\n",
    "plt.show()"
   ]
  },
  {
   "cell_type": "markdown",
   "metadata": {},
   "source": [
    "- ## Standard Deviation Plot"
   ]
  },
  {
   "cell_type": "code",
   "execution_count": 30,
   "metadata": {},
   "outputs": [
    {
     "data": {
      "image/png": "[encoded data removed]",
      "text/plain": [
       "<Figure size 432x288 with 1 Axes>"
      ]
     },
     "metadata": {
      "needs_background": "light"
     },
     "output_type": "display_data"
    }
   ],
   "source": [
    "plt.figure(0)\n",
    "plt.xlabel(\"t (days)\")\n",
    "plt.title(\"Regret's Standard Deviation\")\n",
    "plt.plot(np.std(opt_reward - collected_rewards, axis=0), 'r')  #'r' stay for red, the color for the TS algorithm\n",
    "#plt.plot(np.std(opt - gr_rewards_per_experiment, axis=0), 'g')  #'g' stay for green, the color for the Greedy algorithm\n",
    "plt.legend([\"TS\"])\n",
    "plt.show()"
   ]
  },
  {
   "cell_type": "code",
   "execution_count": 31,
   "metadata": {},
   "outputs": [
    {
     "data": {
      "image/png": "[encoded data removed]",
      "text/plain": [
       "<Figure size 432x288 with 1 Axes>"
      ]
     },
     "metadata": {
      "needs_background": "light"
     },
     "output_type": "display_data"
    }
   ],
   "source": [
    "# mean_R = np.mean(R, axis=0)\n",
    "cum_R = np.cumsum(opt_reward - collected_rewards, axis = 1)\n",
    "mean_cum_R = np.mean(cum_R, axis = 0)\n",
    "std_dev = np.std(cum_R, axis=0)/np.sqrt(n_runs)\n",
    "plt.plot(mean_cum_R)\n",
    "plt.fill_between(range(n_days), mean_cum_R-std_dev, mean_cum_R+std_dev, alpha=0.4)\n",
    "plt.title(\"Cumulative Regret and its Std. Deviation\")\n",
    "plt.xlabel(\"t (days)\")\n",
    "plt.ylabel(\"Cum_Regret(t)\")\n",
    "plt.show()"
   ]
  },
  {
   "cell_type": "markdown",
   "metadata": {},
   "source": [
    "- ## Comparison between Optimal and Expected Reward"
   ]
  },
  {
   "cell_type": "code",
   "execution_count": 32,
   "metadata": {},
   "outputs": [
    {
     "data": {
      "image/png": "[encoded data removed]",
      "text/plain": [
       "<Figure size 432x288 with 1 Axes>"
      ]
     },
     "metadata": {
      "needs_background": "light"
     },
     "output_type": "display_data"
    }
   ],
   "source": [
    "plt.figure(0)\n",
    "plt.title(\"Optimal VS Expected Reward\")\n",
    "plt.axhline(opt_reward, color = 'green')\n",
    "plt.plot(np.mean(collected_rewards, axis=0))\n",
    "plt.legend([\"Optimal Reward\", \"Mean Expected Reward\"])\n",
    "plt.show()"
   ]
  },
  {
   "cell_type": "markdown",
   "metadata": {},
   "source": [
    "## Explore the istant regret in the collected runs of the step 3 learner"
   ]
  },
  {
   "cell_type": "code",
   "execution_count": null,
   "metadata": {},
   "outputs": [],
   "source": [
    "opt_reward = learner.opt_reward\n",
    "(opt_reward - collected_rewards)[-2][-20:]"
   ]
  },
  {
   "cell_type": "code",
   "execution_count": null,
   "metadata": {},
   "outputs": [],
   "source": [
    "learner.price_comb_history[-1][-20:]"
   ]
  },
  {
   "cell_type": "markdown",
   "metadata": {},
   "source": [
    "## Comparison between mean conversion rates estimated by last run of TS and real values"
   ]
  },
  {
   "cell_type": "code",
   "execution_count": 15,
   "metadata": {},
   "outputs": [
    {
     "name": "stdout",
     "output_type": "stream",
     "text": [
      "Mean of estimated conversion rates \n",
      " [[0.75821097 0.38717421 0.36269235 0.43911152]\n",
      " [0.72351109 0.8711801  0.19638829 0.3734326 ]\n",
      " [0.87820678 0.56892769 0.38750236 0.41816604]\n",
      " [0.81328818 0.93818612 0.92897296 0.1219864 ]\n",
      " [0.9393961  0.51383866 0.40131188 0.45651839]]\n",
      "\n",
      "Estimated conversion rates for run 9 \n",
      " [[0.76092874 0.37278107 0.5        0.5       ]\n",
      " [0.5        0.87102271 0.17919075 0.5       ]\n",
      " [0.87795429 0.53768844 0.5        0.5       ]\n",
      " [0.5        0.99874477 0.92781111 0.15646259]\n",
      " [0.9421021  0.45132743 0.5        0.016     ]]\n"
     ]
    }
   ],
   "source": [
    "CR_mean = np.array(learner.cr_matrix_list).mean(axis = 0)\n",
    "i = 9\n",
    "CR_i = learner.cr_matrix_list[i]\n",
    "print(\"Mean of estimated conversion rates \\n\", CR_mean)\n",
    "\n",
    "print(\"\\nEstimated conversion rates for run %d \\n\" %i, CR_i)"
   ]
  },
  {
   "cell_type": "code",
   "execution_count": 16,
   "metadata": {},
   "outputs": [
    {
     "data": {
      "text/plain": [
       "matrix([[0.75803635, 0.38208858, 0.09680048, 0.01072411],\n",
       "        [0.99913583, 0.87146285, 0.19306234, 0.0020741 ],\n",
       "        [0.8783275 , 0.56618383, 0.1216725 , 0.00620967],\n",
       "        [1.        , 0.99998212, 0.92876662, 0.11506967],\n",
       "        [0.93942924, 0.51993881, 0.07352926, 0.00158887]])"
      ]
     },
     "execution_count": 16,
     "metadata": {},
     "output_type": "execute_result"
    }
   ],
   "source": [
    "np.matrix(env.theoretical_values['conversion_rates'][0])"
   ]
  },
  {
   "cell_type": "code",
   "execution_count": null,
   "metadata": {},
   "outputs": [],
   "source": [
    "# CODICE PER TESTARE SE UN PREZZO PER UN DETERMINATO PRODOTTO E' STATO \"ESPLORATO\" DALL'ALGORITMO\n",
    "comb_list = learner.price_comb_history[-1]\n",
    "count = 0\n",
    "prod = 0\n",
    "price = 0\n",
    "\n",
    "for comb in comb_list :\n",
    "    count += 1 if comb[prod] == price else 0\n",
    "\n",
    "count"
   ]
  },
  {
   "cell_type": "markdown",
   "metadata": {},
   "source": [
    "- ### Ucb1 - Greedy optimizer"
   ]
  },
  {
   "cell_type": "code",
   "execution_count": 32,
   "metadata": {},
   "outputs": [],
   "source": [
    "# setting the run parameters\n",
    "n_runs = 5\n",
    "daily_users = 200\n",
    "n_days = 300"
   ]
  },
  {
   "cell_type": "code",
   "execution_count": 33,
   "metadata": {},
   "outputs": [],
   "source": [
    "ucb1_greedy_R = []\n",
    "ucb1g_collected_rewards = []\n",
    "for _ in range(n_runs):\n",
    "    ucb_greedy = ucb1_greedy(daily_users, len(prices), len(prices[0]), prices, env)\n",
    "    instant_regret = []\n",
    "    ucb1g_collected_rewards_temp = []\n",
    "    for t in range(n_days):\n",
    "        pulled_arms = ucb_greedy.pull_arms()\n",
    "        day_data = env.simulate_day(daily_users, pulled_arms, [\"conversion_rates\"])\n",
    "        cr_data = day_data[\"CR_data\"]\n",
    "        ucb_greedy.update(pulled_arms, cr_data)\n",
    "        reward = env.expected_reward(pulled_arms)\n",
    "        ucb1g_collected_rewards_temp.append(reward)\n",
    "        instant_regret.append(opt_reward - reward)\n",
    "    ucb1g_collected_rewards.append(ucb1g_collected_rewards_temp)\n",
    "    cumulative_regret = np.cumsum(instant_regret)\n",
    "    ucb1_greedy_R.append(cumulative_regret)"
   ]
  },
  {
   "cell_type": "code",
   "execution_count": 36,
   "metadata": {},
   "outputs": [],
   "source": [
    "# store the result\n",
    "with open(\"ucb1_greedy_R\", 'wb') as f1:\n",
    "    pickle.dump(ucb1_greedy_R, f1)\n",
    "with open(\"ucb1g_collected_rewards\", 'wb') as f1:\n",
    "    pickle.dump(ucb1g_collected_rewards, f1)"
   ]
  },
  {
   "cell_type": "code",
   "execution_count": 37,
   "metadata": {},
   "outputs": [],
   "source": [
    "# load the result\n",
    "with open(\"ucb1_greedy_R\", 'rb') as f1:\n",
    "    ucb1_greedy_R = pickle.load(f1)\n",
    "with open(\"ucb1g_collected_rewards\", 'rb') as f1:\n",
    "    ucb1g_collected_rewards = pickle.load(f1)"
   ]
  },
  {
   "cell_type": "code",
   "execution_count": 38,
   "metadata": {},
   "outputs": [
    {
     "data": {
      "text/plain": [
       "<matplotlib.collections.PolyCollection at 0x1890ab53820>"
      ]
     },
     "execution_count": 38,
     "metadata": {},
     "output_type": "execute_result"
    },
    {
     "data": {
      "image/png": "[encoded data removed]",
      "text/plain": [
       "<Figure size 432x288 with 1 Axes>"
      ]
     },
     "metadata": {
      "needs_background": "light"
     },
     "output_type": "display_data"
    }
   ],
   "source": [
    "# plot of the result\n",
    "mean_ucbg_R = np.mean(ucb1_greedy_R, axis=0)\n",
    "std_dev_ucbg = np.std(ucb1_greedy_R, axis=0)/np.sqrt(n_runs)\n",
    "plt.plot(mean_ucbg_R)\n",
    "plt.fill_between(range(n_days), mean_ucbg_R-std_dev_ucbg, mean_ucbg_R+std_dev_ucbg, alpha=0.4)"
   ]
  },
  {
   "cell_type": "code",
   "execution_count": 39,
   "metadata": {},
   "outputs": [
    {
     "data": {
      "image/png": "[encoded data removed]",
      "text/plain": [
       "<Figure size 432x288 with 1 Axes>"
      ]
     },
     "metadata": {
      "needs_background": "light"
     },
     "output_type": "display_data"
    }
   ],
   "source": [
    "# comparison between optimal and expected reward\n",
    "plt.figure(0)\n",
    "plt.title(\"Reward - Optimal vs Collected\")\n",
    "plt.axhline(opt_reward, color = 'green')\n",
    "plt.plot(np.mean(ucb1g_collected_rewards, axis=0))\n",
    "plt.legend([\"Optimal Reward\", \"Mean Collected Reward\"])\n",
    "plt.show()"
   ]
  },
  {
   "cell_type": "code",
   "execution_count": 40,
   "metadata": {},
   "outputs": [
    {
     "name": "stdout",
     "output_type": "stream",
     "text": [
      "Last n pulled arms:\n"
     ]
    },
    {
     "data": {
      "text/plain": [
       "[[0, 1, 0, 2, 0],\n",
       " [0, 1, 0, 2, 0],\n",
       " [0, 1, 0, 2, 0],\n",
       " [0, 1, 0, 2, 0],\n",
       " [0, 1, 0, 2, 0],\n",
       " [0, 1, 0, 2, 0],\n",
       " [0, 1, 0, 2, 0],\n",
       " [0, 1, 0, 2, 0],\n",
       " [0, 1, 0, 2, 0]]"
      ]
     },
     "execution_count": 40,
     "metadata": {},
     "output_type": "execute_result"
    }
   ],
   "source": [
    "# last n pulled arms\n",
    "print(\"Last n pulled arms:\")\n",
    "np.array(ucb_greedy.pulled[-10:-1], dtype=np.int32)[:, 0].tolist()"
   ]
  },
  {
   "cell_type": "code",
   "execution_count": 56,
   "metadata": {},
   "outputs": [
    {
     "data": {
      "text/plain": [
       "array([206, 240, 306, 333, 317, 419, 356, 374, 396, 474, 378, 385, 414,\n",
       "       416, 335, 404, 381, 389, 393, 388, 399, 422, 441, 380, 402, 402,\n",
       "       379, 413, 395, 397, 352, 382, 399, 376, 394, 400, 370, 414, 418,\n",
       "       441, 419, 387, 432, 350, 349, 390, 368, 415, 406, 378, 439, 404,\n",
       "       415, 447, 373, 399, 409, 396, 367, 381, 378, 408, 393, 356, 391,\n",
       "       392, 370, 356, 419, 392, 393, 424, 414, 406, 418, 433, 442, 443,\n",
       "       376, 427, 380, 412, 371, 384, 400, 408, 354, 374, 379, 384, 381,\n",
       "       348, 433, 418, 410, 421, 344, 458, 381, 433, 389, 396, 399, 419,\n",
       "       347, 368, 380, 364, 352, 384, 390, 442, 365, 378, 347, 422, 340,\n",
       "       409, 345, 358, 481, 434, 359, 400, 399, 393, 381, 317, 393, 438,\n",
       "       410, 365, 371, 452, 420, 415, 375, 409, 393, 444, 407, 343, 371,\n",
       "       339, 427, 454, 410, 421, 408, 422, 406, 450, 379, 357, 419, 442,\n",
       "       391, 399, 412, 364, 434, 403, 392, 395, 410, 415, 375, 375, 438,\n",
       "       405, 380, 400, 377, 424, 463, 402, 391, 376, 381, 362, 400, 402,\n",
       "       394, 368, 401, 405, 393, 399, 404, 445, 422, 429, 393, 400, 370,\n",
       "       370, 397, 365, 398, 357, 365, 341, 392, 422, 412, 378, 347, 404,\n",
       "       426, 424, 446, 366, 395, 402, 380, 403, 393, 443, 375, 446, 360,\n",
       "       368, 454, 364, 351, 374, 398, 378, 342, 409, 395, 382, 388, 396,\n",
       "       398, 390, 422, 411, 364, 411, 394, 390, 362, 440, 358, 392, 393,\n",
       "       399, 401, 462, 432, 443, 415, 395, 373, 403, 416, 381, 476, 447,\n",
       "       390, 392, 384, 396, 431, 426, 381, 352, 416, 447, 392, 392, 369,\n",
       "       380, 387, 398, 375, 433, 404, 388, 461, 427, 367, 408, 412, 414,\n",
       "       361, 427, 469, 417, 387, 436, 459, 423, 382, 373, 405, 384, 392,\n",
       "       419])"
      ]
     },
     "execution_count": 56,
     "metadata": {},
     "output_type": "execute_result"
    }
   ],
   "source": [
    "np.sum(np.array(ucb_greedy.pulled)[:, 1], axis=1)"
   ]
  },
  {
   "cell_type": "code",
   "execution_count": 41,
   "metadata": {},
   "outputs": [
    {
     "name": "stderr",
     "output_type": "stream",
     "text": [
      "C:\\Users\\stefa\\AppData\\Local\\Temp/ipykernel_18020/39005033.py:16: VisibleDeprecationWarning: Creating an ndarray from ragged nested sequences (which is a list-or-tuple of lists-or-tuples-or ndarrays with different lengths or shapes) is deprecated. If you meant to do this, you must specify 'dtype=object' when creating the ndarray.\n",
      "  result.append(x[np.argmax(np.array(x)[:, 1])])\n",
      "C:\\Users\\stefa\\AppData\\Local\\Temp/ipykernel_18020/39005033.py:17: VisibleDeprecationWarning: Creating an ndarray from ragged nested sequences (which is a list-or-tuple of lists-or-tuples-or ndarrays with different lengths or shapes) is deprecated. If you meant to do this, you must specify 'dtype=object' when creating the ndarray.\n",
      "  x = np.delete(x, np.argmax(np.array(x)[:, 1]), axis=0).tolist()\n",
      "C:\\Users\\stefa\\anaconda3\\lib\\site-packages\\numpy\\core\\_asarray.py:102: VisibleDeprecationWarning: Creating an ndarray from ragged nested sequences (which is a list-or-tuple of lists-or-tuples-or ndarrays with different lengths or shapes) is deprecated. If you meant to do this, you must specify 'dtype=object' when creating the ndarray.\n",
      "  return array(a, dtype, copy=False, order=order)\n"
     ]
    },
    {
     "name": "stdout",
     "output_type": "stream",
     "text": [
      "Optimal arms combination:\n",
      "[0, 1, 0, 2, 0] 137.69147031953702\n",
      "\n",
      "\n",
      "Ucb1 most pulled arms:\n",
      "(arms combination), (n° pulls), (exp rew)\n"
     ]
    },
    {
     "data": {
      "text/plain": [
       "[[[0, 1, 0, 2, 0], 287, 137.69147031953702],\n",
       " [[0, 1, 1, 2, 0], 2, 121.3275918190422],\n",
       " [[1, 1, 0, 2, 0], 2, 130.14763976655786],\n",
       " [[0, 1, 0, 2, 1], 1, 115.35082806582172],\n",
       " [[0, 1, 0, 3, 0], 1, 79.43982215810664],\n",
       " [[0, 1, 1, 2, 1], 1, 100.64866484983645],\n",
       " [[0, 2, 1, 2, 0], 1, 103.17515902087152],\n",
       " [[1, 1, 1, 2, 1], 1, 94.24768366384744],\n",
       " [[2, 1, 0, 2, 0], 1, 123.72670126639426],\n",
       " [[2, 2, 2, 2, 2], 1, 35.5525597011032],\n",
       " [[3, 1, 0, 2, 0], 1, 121.63722120306505],\n",
       " [[3, 3, 3, 3, 3], 1, 3.5997550521117203],\n",
       " [[0, 0, 0, 0, 0], 0, 131.2259237597705],\n",
       " [[0, 0, 0, 0, 1], 0, 109.10615667646934],\n",
       " [[0, 0, 0, 0, 2], 0, 82.19934811770634],\n",
       " [[0, 0, 0, 0, 3], 0, 77.56434411661424],\n",
       " [[0, 0, 0, 1, 0], 0, 135.68040262411165],\n",
       " [[0, 0, 0, 1, 1], 0, 113.14809582665012],\n",
       " [[0, 0, 0, 1, 2], 0, 85.80229494248972],\n",
       " [[0, 0, 0, 1, 3], 0, 81.09654767760364]]"
      ]
     },
     "execution_count": 41,
     "metadata": {},
     "output_type": "execute_result"
    }
   ],
   "source": [
    "# ucb1 most pulled arms\n",
    "combinations_data = [[] for i in range(1024)]\n",
    "for i1 in range(4):\n",
    "    for i2 in range(4):\n",
    "        for i3 in range(4):\n",
    "            for i4 in range(4):\n",
    "                for i5 in range(4):\n",
    "                    combinations_data[i1*(4**4) + i2*(4**3) + i3*(4**2) + i4*(4**1) + i5*(4**0)].append([i1, i2, i3, i4, i5])\n",
    "                    c = np.array(np.array(ucb_greedy.pulled, dtype=np.int32)[:, 0].tolist()) == [i1, i2, i3, i4, i5]\n",
    "                    c = np.prod(c, axis=1)\n",
    "                    combinations_data[i1*(4**4) + i2*(4**3) + i3*(4**2) + i4*(4**1) + i5*(4**0)].append(np.count_nonzero(c))\n",
    "                    combinations_data[i1*(4**4) + i2*(4**3) + i3*(4**2) + i4*(4**1) + i5*(4**0)].append(env.expected_reward([i1, i2, i3, i4, i5]))\n",
    "                    x = combinations_data\n",
    "result = []\n",
    "for i in range(20):\n",
    "    result.append(x[np.argmax(np.array(x)[:, 1])])\n",
    "    x = np.delete(x, np.argmax(np.array(x)[:, 1]), axis=0).tolist()\n",
    "print(\"Optimal arms combination:\")\n",
    "print(env.optimal_reward()[1], env.optimal_reward()[0])\n",
    "print(\"\\n\\nUcb1 most pulled arms:\")\n",
    "print(\"(arms combination), (n° pulls), (exp rew)\")\n",
    "result"
   ]
  }
 ],
 "metadata": {
  "kernelspec": {
   "display_name": "Python 3 (ipykernel)",
   "language": "python",
   "name": "python3"
  },
  "language_info": {
   "codemirror_mode": {
    "name": "ipython",
    "version": 3
   },
   "file_extension": ".py",
   "mimetype": "text/x-python",
   "name": "python",
   "nbconvert_exporter": "python",
   "pygments_lexer": "ipython3",
   "version": "3.9.7"
  },
  "vscode": {
   "interpreter": {
    "hash": "aee8b7b246df8f9039afb4144a1f6fd8d2ca17a180786b69acc140d282b71a49"
   }
  }
 },
 "nbformat": 4,
 "nbformat_minor": 4
}
