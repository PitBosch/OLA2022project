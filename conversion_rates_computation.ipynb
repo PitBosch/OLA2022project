{
 "cells": [
  {
   "cell_type": "code",
   "execution_count": null,
   "metadata": {},
   "outputs": [],
   "source": [
    "import numpy as np\n",
    "import scipy"
   ]
  },
  {
   "cell_type": "code",
   "execution_count": null,
   "metadata": {},
   "outputs": [],
   "source": [
    "prices = [[8., 9, 10, 11],\n",
    "          [10., 12, 14, 16],\n",
    "          [20., 22, 24, 26],\n",
    "          [28., 30, 32, 34],\n",
    "          [40., 42, 44, 46]]\n",
    "# benchmark conversion rates matrix for aggregated demand curve\n",
    "np.matrix([[0.2, 0.19, 0.175, 0.155],\n",
    "            [0.2, 0.19, 0.175, 0.155],\n",
    "            [0.2, 0.19, 0.175, 0.155],\n",
    "            [0.15, 0.14, 0.1275, 0.11],\n",
    "            [0.1, 0.09, 0.0775, 0.065]])     "
   ]
  },
  {
   "cell_type": "code",
   "execution_count": null,
   "metadata": {},
   "outputs": [],
   "source": [
    "std_norm = scipy.stats.norm()\n",
    "p_max = 46\n",
    "p_min = 40\n",
    "cr_p_max = 0.08\n",
    "cr_p_min = 0.1\n",
    "std_opt = (p_max - p_min)/(std_norm.ppf(1-cr_p_max) - std_norm.ppf(1-cr_p_min))\n",
    "mean_opt = p_min - std_opt*std_norm.ppf(1-cr_p_min)\n",
    "print(std_opt, mean_opt)"
   ]
  }
 ],
 "metadata": {
  "kernelspec": {
   "display_name": "Python 3.10.4 64-bit",
   "language": "python",
   "name": "python3"
  },
  "language_info": {
   "name": "python",
   "version": "3.10.4"
  },
  "orig_nbformat": 4,
  "vscode": {
   "interpreter": {
    "hash": "aee8b7b246df8f9039afb4144a1f6fd8d2ca17a180786b69acc140d282b71a49"
   }
  }
 },
 "nbformat": 4,
 "nbformat_minor": 2
}
