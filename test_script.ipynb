{
 "cells": [
  {
   "cell_type": "markdown",
   "metadata": {},
   "source": [
    "# LIBRARIES"
   ]
  },
  {
   "cell_type": "code",
   "execution_count": 1,
   "metadata": {},
   "outputs": [],
   "source": [
    "import Learner\n",
    "from Environment import Environment\n",
    "from UserCat import UserCat\n",
    "from Product import Product\n",
    "from Greedy_learner import *\n",
    "import numpy as np\n",
    "import random"
   ]
  },
  {
   "cell_type": "markdown",
   "metadata": {},
   "source": [
    "# TESTING of ENVIRONMENT.py"
   ]
  },
  {
   "cell_type": "code",
   "execution_count": 3,
   "metadata": {},
   "outputs": [],
   "source": [
    "users=[]\n",
    "products=[]\n",
    "\n",
    "nameofproduct= [ #name of products\n",
    "    \"Calabazas\",\n",
    "    \"Hinojo\",\n",
    "    \"Sesamo\",\n",
    "    \"Girasol\",\n",
    "    \"Amapola\"\n",
    "]\n",
    "\n",
    "prices=[[4., 5, 6 ,7],\n",
    "    [9., 10, 11, 12],\n",
    "    [18., 19, 20, 21],\n",
    "    [24., 25, 26, 27],\n",
    "    [33., 34, 35, 36]]\n",
    "#1-2 di delta, Con sovrapposizione\n",
    "\n",
    "cost=[2,4.5,9,14,17]\n",
    "\n",
    "#sarebbe interessante anche prendere da file il tutto così da cambiare tutto più facilmente\n",
    "#calcolo i margini dai cost mi sembra più sensato e anche più veloce se dobbiamo cambiare continuamente\n",
    "\n",
    "cost2 = np.tile(np.array([cost]).transpose(), (1, 4))\n",
    "margins = np.array(prices)-cost2\n",
    "\n",
    "Secondary_dict={           # Propongo i prodotti più simili a quello mostrato --> problemino: 2 viene mostrato quasi sempre\n",
    "    \"Calabazas\": [1,2],\n",
    "    \"Hinojo\": [0,2],\n",
    "    \"Sesamo\": [1,3],\n",
    "    \"Girasol\": [2,4],\n",
    "    \"Amapola\": [2,3]\n",
    "}\n",
    "\n",
    "res_price_params = {\n",
    "    \"shape\": 30,\n",
    "    \"scale\": 3,\n",
    "    \"max\" : 60,\n",
    "    \"min\" : 5\n",
    "}\n",
    "\n",
    "np.random.seed(1)\n",
    "probabilities = np.random.uniform(0.0, 1, (5, 5))\n",
    "\n",
    "\n",
    "alphas=[1/5, 1/5, 1/5, 1/5, 1/5] \n",
    "# per ora li generiamo così, tutti uguali -> devo generare 3 diversi vettori alpha\n",
    "\n",
    "poisson_lambda = 1\n",
    "#=valore atteso del numero di prodotti acquistati (specifico per prodotto)...non dipende dal\n",
    "#prodotto oltre che dallo user che dal tipo di user che\n",
    "\n",
    "p_users = [4/9, 3/9, 2/9] #probabilità di essere un tipo di utente-> da cambiare\n",
    "\n",
    "lambda_q = 0.5 #just my idea of lambda\n",
    "#possiamo stimarlo con i dati passati provenienti dal sito -> vino tot è stato comprato 15 volte\n",
    "\n",
    "#proviamo a pensare, ha senso vederlo come coppia? categoria-prodotto? Avrei 3 categorie *5 prodotti-> 15 lambda diversi\n",
    "# ^^ Andre: secondo me ha senso avere 3 lambda_q diversi per categoria MA non per prodotto. La probabilità di continuare\n",
    "#           a guardare secondo me dipende dall'utente e non dal prodotto\n",
    "\n",
    "for i in range (5):\n",
    "    products.append(Product(prices[i], i, nameofproduct[i],margins[i]))\n",
    "\n",
    "for i in range(3):\n",
    "    users.append(UserCat(alphas, res_price_params, poisson_lambda, probabilities))\n",
    "\n",
    "Env = Environment(users, products,  lambda_q, Secondary_dict, p_users)\n"
   ]
  },
  {
   "cell_type": "code",
   "execution_count": null,
   "metadata": {},
   "outputs": [],
   "source": [
    "probabilities"
   ]
  },
  {
   "cell_type": "code",
   "execution_count": 4,
   "metadata": {},
   "outputs": [
    {
     "data": {
      "text/plain": [
       "(9.71937076534408, [3, 3, 3, 3, 0])"
      ]
     },
     "execution_count": 4,
     "metadata": {},
     "output_type": "execute_result"
    }
   ],
   "source": [
    "Env.optimal_reward()"
   ]
  },
  {
   "cell_type": "code",
   "execution_count": 11,
   "metadata": {},
   "outputs": [
    {
     "data": {
      "text/plain": [
       "7.428526303528863"
      ]
     },
     "execution_count": 11,
     "metadata": {},
     "output_type": "execute_result"
    }
   ],
   "source": [
    "Env.aggregated_reward([0, 0, 0, 0, 0])"
   ]
  },
  {
   "cell_type": "code",
   "execution_count": null,
   "metadata": {},
   "outputs": [],
   "source": [
    "Env.single_reward(0, [3, 3, 1, 0, 0])"
   ]
  },
  {
   "cell_type": "code",
   "execution_count": null,
   "metadata": {},
   "outputs": [],
   "source": [
    "a = Env.simulate_day(10000, [3,3,1,0,0])\n",
    "a\n",
    "print(\"The margin for the price combination chosen are:\", a, \"\\nMean reward for user\", sum(a)/10000)"
   ]
  },
  {
   "cell_type": "markdown",
   "metadata": {},
   "source": [
    "# Greedy Algorithm Test"
   ]
  },
  {
   "cell_type": "code",
   "execution_count": 4,
   "metadata": {},
   "outputs": [
    {
     "name": "stdout",
     "output_type": "stream",
     "text": [
      "[56578.5, 87758.0, 38699.5, 58819.0, 64607.5]\n",
      "89142.5\n"
     ]
    },
    {
     "data": {
      "text/plain": [
       "{'combination': [0, 0, 0, 0, 0], 'margin': 89142.5}"
      ]
     },
     "execution_count": 4,
     "metadata": {},
     "output_type": "execute_result"
    }
   ],
   "source": [
    "greedy_learner = Greedy_learner(Env, 10000)\n",
    "greedy_learner.run()"
   ]
  },
  {
   "cell_type": "code",
   "execution_count": null,
   "metadata": {},
   "outputs": [],
   "source": []
  }
 ],
 "metadata": {
  "kernelspec": {
   "display_name": "Python 3.10.4 64-bit",
   "language": "python",
   "name": "python3"
  },
  "language_info": {
   "codemirror_mode": {
    "name": "ipython",
    "version": 3
   },
   "file_extension": ".py",
   "mimetype": "text/x-python",
   "name": "python",
   "nbconvert_exporter": "python",
   "pygments_lexer": "ipython3",
   "version": "3.10.4"
  },
  "orig_nbformat": 4,
  "vscode": {
   "interpreter": {
    "hash": "aee8b7b246df8f9039afb4144a1f6fd8d2ca17a180786b69acc140d282b71a49"
   }
  }
 },
 "nbformat": 4,
 "nbformat_minor": 2
}
