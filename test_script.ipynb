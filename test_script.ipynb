{
 "cells": [
  {
   "cell_type": "markdown",
   "metadata": {},
   "source": [
    "# LIBRARIES"
   ]
  },
  {
   "cell_type": "code",
   "execution_count": 1,
   "metadata": {},
   "outputs": [],
   "source": [
    "import pickle\n",
    "from Environment import Environment\n",
    "from UserCat import UserCat\n",
    "from Product import Product\n",
    "from Greedy_optimizer import *\n",
    "import numpy as np\n",
    "import matplotlib.pyplot as plt\n"
   ]
  },
  {
   "cell_type": "markdown",
   "metadata": {},
   "source": [
    "# TESTING of ENVIRONMENT.py"
   ]
  },
  {
   "cell_type": "code",
   "execution_count": 24,
   "metadata": {},
   "outputs": [],
   "source": [
    "np.random.seed(1)\n",
    "\n",
    "users = []\n",
    "products=[]\n",
    "\n",
    "nameofproduct= [ #name of products\n",
    "    \"Calabazas\",\n",
    "    \"Hinojo\",\n",
    "    \"Sesamo\",\n",
    "    \"Girasol\",\n",
    "    \"Amapola\"\n",
    "]\n",
    "\n",
    "prices=[[4., 6, 7, 8],\n",
    "    [9., 13, 17, 21],\n",
    "    [18., 20, 22, 24],\n",
    "    [24., 26, 28, 30],\n",
    "    [33., 35, 37, 39]]\n",
    "#1-2 di delta, Con sovrapposizione\n",
    "\n",
    "cost=[2, 4.5, 9, 14, 17]\n",
    "\n",
    "#sarebbe interessante anche prendere da file il tutto così da cambiare tutto più facilmente\n",
    "#calcolo i margini dai cost mi sembra più sensato e anche più veloce se dobbiamo cambiare continuamente\n",
    "\n",
    "cost2 = np.tile(np.array([cost]).transpose(), (1, 4))\n",
    "margins = np.array(prices)-cost2\n",
    "\n",
    "Secondary_dict={           # Propongo i prodotti più simili a quello mostrato --> problemino: 2 viene mostrato quasi sempre\n",
    "    \"Calabazas\": [1,2],\n",
    "    \"Hinojo\": [0,2],\n",
    "    \"Sesamo\": [1,3],\n",
    "    \"Girasol\": [2,4],\n",
    "    \"Amapola\": [2,3]\n",
    "}\n",
    "\n",
    "res_price_params = {\n",
    "    \"shape\": 9,  # media è shape*scale, la varianza è shape*scale^2\n",
    "    \"scale\": 3\n",
    "}\n",
    "\n",
    "\n",
    "probabilities = [[0, 0.3, 0.2, 0, 0],\n",
    "                 [0.3, 0, 0.3, 0, 0],\n",
    "                 [0, 0.2, 0, 0.4, 0],\n",
    "                 [0, 0, 0.2, 0, 0.4],\n",
    "                 [0, 0, 0.3, 0.3, 0]]\n",
    "probabilities = np.matrix(probabilities)\n",
    "\n",
    "\n",
    "alphas=[10, 10, 10, 10, 10] \n",
    "# per ora li generiamo così, tutti uguali -> devo generare 3 diversi vettori alpha\n",
    "\n",
    "poisson_lambda = 0.7\n",
    "#=valore atteso del numero di prodotti acquistati (specifico per prodotto)...non dipende dal\n",
    "#prodotto oltre che dallo user che dal tipo di user che\n",
    "\n",
    "# p_users = [4/9, 3/9, 2/9] #probabilità di essere un tipo di utente-> da cambiare\n",
    "p_users = [1]\n",
    "\n",
    "lambda_q = 0.5 #just my idea of lambda\n",
    "#possiamo stimarlo con i dati passati provenienti dal sito -> vino tot è stato comprato 15 volte\n",
    "\n",
    "#proviamo a pensare, ha senso vederlo come coppia? categoria-prodotto? Avrei 3 categorie *5 prodotti-> 15 lambda diversi\n",
    "# ^^ Andre: secondo me ha senso avere 3 lambda_q diversi per categoria MA non per prodotto. La probabilità di continuare\n",
    "#           a guardare secondo me dipende dall'utente e non dal prodotto\n",
    "\n",
    "for i in range (5):\n",
    "    products.append(Product(prices[i], i, nameofproduct[i],margins[i]))\n",
    "\n",
    "# for i in range(3):\n",
    "users.append(UserCat(alphas, res_price_params, poisson_lambda, probabilities))\n",
    "\n",
    "Env = Environment(users, products,  lambda_q, Secondary_dict, p_users)\n"
   ]
  },
  {
   "cell_type": "code",
   "execution_count": 3,
   "metadata": {},
   "outputs": [
    {
     "data": {
      "text/plain": [
       "13.83022356472263"
      ]
     },
     "execution_count": 3,
     "metadata": {},
     "output_type": "execute_result"
    }
   ],
   "source": [
    "Env.expected_reward([0,0,0,0,0])"
   ]
  },
  {
   "cell_type": "markdown",
   "metadata": {},
   "source": [
    "# Expected Reward test"
   ]
  },
  {
   "cell_type": "code",
   "execution_count": 2,
   "metadata": {},
   "outputs": [
    {
     "name": "stdout",
     "output_type": "stream",
     "text": [
      "theoretical reward : 6.786367931533913\n",
      "path reward : 8.44432783177496\n",
      "old reward : 8.015746130857606\n"
     ]
    }
   ],
   "source": [
    "# ENVIRONMENT\n",
    "users=[]\n",
    "products=[]\n",
    "\n",
    "nameofproduct= [ #name of products\n",
    "    \"Calabazas\",\n",
    "    \"Hinojo\",\n",
    "    \"Sesamo\",\n",
    "    \"Girasol\"\n",
    "]\n",
    "\n",
    "prices=[[4., 6, 7, 8],\n",
    "    [9., 13, 17, 21],\n",
    "    [18., 20, 22, 24],\n",
    "    [24., 26, 28, 30]]\n",
    "#1-2 di delta, Con sovrapposizione\n",
    "\n",
    "cost=[2,4.5,9,14]\n",
    "\n",
    "#sarebbe interessante anche prendere da file il tutto così da cambiare tutto più facilmente\n",
    "#calcolo i margini dai cost mi sembra più sensato e anche più veloce se dobbiamo cambiare continuamente\n",
    "\n",
    "cost2 = np.tile(np.array([cost]).transpose(), (1, 4))\n",
    "margins = np.array(prices)-cost2\n",
    "\n",
    "Secondary_dict={           # Propongo i prodotti più simili a quello mostrato --> problemino: 2 viene mostrato quasi sempre\n",
    "    \"Calabazas\": [1,2],\n",
    "    \"Hinojo\": [0,2],\n",
    "    \"Sesamo\": [1,3],\n",
    "    \"Girasol\": [1,2]\n",
    "}\n",
    "\n",
    "res_price_params = {\n",
    "    \"shape\": 150,  # media è shape*scale, la varianza è shape*scale^2\n",
    "    \"scale\": 0.2,\n",
    "    \"max\" : 60,\n",
    "    \"min\" : 5\n",
    "}\n",
    "\n",
    "np.random.seed(1)\n",
    "probabilities = [[0, 0.3, 0.2, 0],\n",
    "                 [0.3, 0, 0.3, 0],\n",
    "                 [0, 0.2, 0, 0.4],\n",
    "                 [0, 0.2, 0.3, 0]]\n",
    "probabilities = np.matrix(probabilities)\n",
    "\n",
    "\n",
    "alphas=[1/5, 1/5, 1/5, 1/5, 1/5] \n",
    "# per ora li generiamo così, tutti uguali -> devo generare 3 diversi vettori alpha\n",
    "\n",
    "poisson_lambda = 0.7\n",
    "#=valore atteso del numero di prodotti acquistati (specifico per prodotto)...non dipende dal\n",
    "#prodotto oltre che dallo user che dal tipo di user che\n",
    "\n",
    "# p_users = [4/9, 3/9, 2/9] #probabilità di essere un tipo di utente-> da cambiare\n",
    "p_users = [1]\n",
    "\n",
    "lambda_q = 0.5 #just my idea of lambda\n",
    "#possiamo stimarlo con i dati passati provenienti dal sito -> vino tot è stato comprato 15 volte\n",
    "\n",
    "#proviamo a pensare, ha senso vederlo come coppia? categoria-prodotto? Avrei 3 categorie *5 prodotti-> 15 lambda diversi\n",
    "# ^^ Andre: secondo me ha senso avere 3 lambda_q diversi per categoria MA non per prodotto. La probabilità di continuare\n",
    "#           a guardare secondo me dipende dall'utente e non dal prodotto\n",
    "\n",
    "for i in range (4):\n",
    "    products.append(Product(prices[i], i, nameofproduct[i],margins[i]))\n",
    "\n",
    "# for i in range(3):\n",
    "users.append(UserCat(alphas, res_price_params, poisson_lambda, probabilities))\n",
    "\n",
    "Env_prova = Environment(users, products,  lambda_q, Secondary_dict, p_users)\n",
    "\n",
    "# CASI POSSIBILI\n",
    "# Guardare documento word su trello nella scheda TEST EXPECTED REWARD\n",
    "# 0 a): b0*(1-q01)*(1-q02)*m0 \n",
    "# 0 b) : b0*q01*(1-b1)*[(1-q02)+q02*(1-b2)]*m0\n",
    "# 0-1 a) :b0*q01*b1*q12*(1-b2)*[m0+m1]\n",
    "# 0-1 b): b0*q01*b1*(1-q12)*[(1-q02)+q02*(1-b2)]*[m0+m1]\n",
    "# 0-2 a): b0*(1-q01)*q02*b2*{(1-q21)*(1-q23)+ q21*(1-b1)*[(1-q23) + q23*(1-b3)]}*[m0+m2]\n",
    "# 0-2 b) : b0*q01*(1-b1)*q02*b2*[q23*(1-b3)+(1-q23)]* [m0+m2]\n",
    "# 0-1-2 a): b0*q01*b1*q12*b2*[q23*(1-b3)*(1-q23)] *[m0+m1+m2]\n",
    "# 0-1-2 b): b0*q01*b1*(1-q12)*(q02)*b2*[q23*(1-b3)*(1-q23)] *[m0+m1+m2]\n",
    "# 0-1-2-3 a) : b0*q01*b1*q12*b2*q23*b3*[m0+m1+m2+m3]\n",
    "# 0-1-2-3 b) : b0*q01*b1*(1-q12)*q02*b2*q23*b3*[m0+m1+m2+m3]\n",
    "# 0-2-3 a) : b0*q01*(1-b1)*q02*b2*q23*b3*[m0+m2+m3]\n",
    "# 0-2-3 b) : b0*(1-q01)*q02*b2*q21*(1-b1)*q23*b3*[m0+m2+m3]\n",
    "# 0-2-3 c) : b0*(1-q01)*q02*b2*(1-q21)*q23*b3*[q31*(1-b1)+(1-q31)] *[m0+m2+m3]\n",
    "# 0-2-3-1 : b0*(1-q01) *q02*b2*q23*b3*q31*b1[m0+m1+m2+m3]\n",
    "# 0-2-1 : b0*(1-q01)*q02*b2*q12*b1*[q23*(1-b23)+(1-q23)]*[m0+m1+m2]\n",
    "\n",
    "# definisco i valori teorici\n",
    "b0 = Env_prova.theoretical_values[\"conversion_rates\"][0][0][0]\n",
    "b1 = Env_prova.theoretical_values[\"conversion_rates\"][0][1][0]\n",
    "b2 = Env_prova.theoretical_values[\"conversion_rates\"][0][2][0]\n",
    "b3 = Env_prova.theoretical_values[\"conversion_rates\"][0][3][0]\n",
    "\n",
    "q01 = Env_prova.theoretical_values[\"graph_weights\"][0][0,1]\n",
    "q02 = lambda_q * Env_prova.theoretical_values[\"graph_weights\"][0][0,2]\n",
    "q10 = Env_prova.theoretical_values[\"graph_weights\"][0][1,0]\n",
    "q12 = lambda_q * Env_prova.theoretical_values[\"graph_weights\"][0][1,2]\n",
    "q21 = Env_prova.theoretical_values[\"graph_weights\"][0][2,1]\n",
    "q23 = lambda_q * Env_prova.theoretical_values[\"graph_weights\"][0][2,3]\n",
    "q31 = Env_prova.theoretical_values[\"graph_weights\"][0][3,1]\n",
    "q32 = lambda_q * Env_prova.theoretical_values[\"graph_weights\"][0][3,2]\n",
    "\n",
    "m0 = margins[0,0] * Env_prova.theoretical_values[\"n_prod_sold\"][0]\n",
    "m1 = margins[1,0] * Env_prova.theoretical_values[\"n_prod_sold\"][0]\n",
    "m2 = margins[2,0] * Env_prova.theoretical_values[\"n_prod_sold\"][0]\n",
    "m3 = margins[3,0] * Env_prova.theoretical_values[\"n_prod_sold\"][0]\n",
    "\n",
    "theoretical_reward = ( b0*(1-q01)*(1-q02)*m0 + b0*q01*(1-b1)*((1-q02)+q02*(1-b2))*m0 + b0*q01*b1*q12*(1-b2)*(m0+m1) +\n",
    "b0*q01*b1*(1-q12)*((1-q02)+q02*(1-b2))*(m0+m1) + b0*(1-q01)*q02*b2*((1-q21)*(1-q23)+ q21*(1-b1)*((1-q23) + q23*(1-b3)))*(m0+m2) +\n",
    "b0*q01*(1-b1)*q02*b2*(q23*(1-b3)+(1-q23))* (m0+m2) + b0*q01*b1*q12*b2*(q23*(1-b3)*(1-q23)) *(m0+m1+m2) + \n",
    "b0*q01*b1*(1-q12)*(q02)*b2*(q23*(1-b3)*(1-q23)) *(m0+m1+m2) + b0*q01*b1*q12*b2*q23*b3*(m0+m1+m2+m3) +\n",
    "b0*q01*b1*(1-q12)*q02*b2*q23*b3*(m0+m1+m2+m3) + b0*(1-q01)*q02*b2*q21*(1-b1)*q23*b3*(m0+m2+m3) +\n",
    "b0*(1-q01)*q02*b2*(1-q21)*q23*b3*(q31*(1-b1)+(1-q31))*(m0+m2+m3) + b0*(1-q01) *q02*b2*q23*b3*q31*b1*(m0+m1+m2+m3)+\n",
    "b0*(1-q01)*q02*b2*q12*b1*(q23*(1-b3)+(1-q23))*(m0+m1+m2) )\n",
    "\n",
    "product = products[0]\n",
    "price_combination = [0, 0, 0, 0]\n",
    "user_index = 0\n",
    "\n",
    "Env_prova.expected_reward(price_combination)\n",
    "\n",
    "paths_list = []\n",
    "Env_prova.explore_path(paths_list, None, 0, price_combination, 0)\n",
    "algo_reward = 0. \n",
    "for path in paths_list:\n",
    "    algo_reward += path.expected_return()\n",
    "algo_reward\n",
    "\n",
    "algo_reward2 = Env_prova.product_reward(product, [], [0], [Product([], -1, \"null\", [])], price_combination, user_index)\n",
    "print(\"theoretical reward :\", theoretical_reward)\n",
    "print(\"path reward :\", algo_reward)\n",
    "print(\"old reward :\", algo_reward2)"
   ]
  },
  {
   "cell_type": "code",
   "execution_count": 6,
   "metadata": {},
   "outputs": [
    {
     "data": {
      "text/plain": [
       "8.44432783177496"
      ]
     },
     "execution_count": 6,
     "metadata": {},
     "output_type": "execute_result"
    }
   ],
   "source": [
    "Env_prova.product_reward_path(0, 0, price_combination)"
   ]
  },
  {
   "cell_type": "code",
   "execution_count": 3,
   "metadata": {},
   "outputs": [
    {
     "name": "stdout",
     "output_type": "stream",
     "text": [
      "primary seen : [0]\n",
      "primary bought : []\n",
      "probability : 0.0\n",
      "collected_margin : 0\n",
      "\n",
      "primary seen : [0, 1, 2]\n",
      "primary bought : [0]\n",
      "probability : 0.0\n",
      "collected_margin : 3.4\n",
      "\n",
      "primary seen : [0, 1, 2, 3]\n",
      "primary bought : [0, 2]\n",
      "probability : 0.0\n",
      "collected_margin : 18.7\n",
      "\n",
      "primary seen : [0, 1, 2, 3]\n",
      "primary bought : [0, 2, 3]\n",
      "probability : 0.0\n",
      "collected_margin : 35.7\n",
      "\n",
      "primary seen : [0, 1, 2]\n",
      "primary bought : [0, 2]\n",
      "probability : 0.0\n",
      "collected_margin : 18.7\n",
      "\n",
      "primary seen : [0, 1]\n",
      "primary bought : [0]\n",
      "probability : 0.0\n",
      "collected_margin : 3.4\n",
      "\n",
      "primary seen : [0, 1, 2]\n",
      "primary bought : [0, 1]\n",
      "probability : 2.1578860698312496e-10\n",
      "collected_margin : 11.049999999999999\n",
      "\n",
      "primary seen : [0, 1, 2, 3]\n",
      "primary bought : [0, 1, 2]\n",
      "probability : 4.107097154041313e-05\n",
      "collected_margin : 26.349999999999998\n",
      "\n",
      "primary seen : [0, 1, 2, 3]\n",
      "primary bought : [0, 1, 2, 3]\n",
      "probability : 0.008958928985301866\n",
      "collected_margin : 43.349999999999994\n",
      "\n",
      "primary seen : [0, 1, 2]\n",
      "primary bought : [0, 1, 2]\n",
      "probability : 0.035999999827369115\n",
      "collected_margin : 26.349999999999998\n",
      "\n",
      "primary seen : [0, 1, 2]\n",
      "primary bought : [0, 1]\n",
      "probability : 1.2228021062377082e-10\n",
      "collected_margin : 11.049999999999999\n",
      "\n",
      "primary seen : [0, 1, 2, 3]\n",
      "primary bought : [0, 1, 2]\n",
      "probability : 2.327355053956744e-05\n",
      "collected_margin : 26.349999999999998\n",
      "\n",
      "primary seen : [0, 1, 2, 3]\n",
      "primary bought : [0, 1, 2, 3]\n",
      "probability : 0.005076726425004391\n",
      "collected_margin : 43.349999999999994\n",
      "\n",
      "primary seen : [0, 1, 2]\n",
      "primary bought : [0, 1, 2]\n",
      "probability : 0.020399999902175836\n",
      "collected_margin : 26.349999999999998\n",
      "\n",
      "primary seen : [0, 1]\n",
      "primary bought : [0, 1]\n",
      "probability : 0.2295\n",
      "collected_margin : 11.049999999999999\n",
      "\n",
      "primary seen : [0, 2]\n",
      "primary bought : [0]\n",
      "probability : 3.3567116641819435e-10\n",
      "collected_margin : 3.4\n",
      "\n",
      "primary seen : [0, 2, 1, 3]\n",
      "primary bought : [0, 2]\n",
      "probability : 0.0\n",
      "collected_margin : 18.7\n",
      "\n",
      "primary seen : [0, 2, 1, 3]\n",
      "primary bought : [0, 2, 3]\n",
      "probability : 0.0\n",
      "collected_margin : 35.7\n",
      "\n",
      "primary seen : [0, 2, 1]\n",
      "primary bought : [0, 2]\n",
      "probability : 0.0\n",
      "collected_margin : 18.7\n",
      "\n",
      "primary seen : [0, 2, 1, 3]\n",
      "primary bought : [0, 2, 1]\n",
      "probability : 1.2777635590350748e-05\n",
      "collected_margin : 26.349999999999998\n",
      "\n",
      "primary seen : [0, 2, 1, 3]\n",
      "primary bought : [0, 2, 1, 3]\n",
      "probability : 0.0027872223509828025\n",
      "collected_margin : 43.349999999999994\n",
      "\n",
      "primary seen : [0, 2, 1]\n",
      "primary bought : [0, 2, 1]\n",
      "probability : 0.011199999946292612\n",
      "collected_margin : 26.349999999999998\n",
      "\n",
      "primary seen : [0, 2, 3]\n",
      "primary bought : [0, 2]\n",
      "probability : 5.1110542361403e-05\n",
      "collected_margin : 18.7\n",
      "\n",
      "primary seen : [0, 2, 3, 1]\n",
      "primary bought : [0, 2, 3]\n",
      "probability : 0.0\n",
      "collected_margin : 35.7\n",
      "\n",
      "primary seen : [0, 2, 3, 1]\n",
      "primary bought : [0, 2, 3, 1]\n",
      "probability : 0.0022297778807862426\n",
      "collected_margin : 43.35\n",
      "\n",
      "primary seen : [0, 2, 3]\n",
      "primary bought : [0, 2, 3]\n",
      "probability : 0.00891911152314497\n",
      "collected_margin : 35.7\n",
      "\n",
      "primary seen : [0, 2]\n",
      "primary bought : [0, 2]\n",
      "probability : 0.044799999785170457\n",
      "collected_margin : 18.7\n",
      "\n",
      "primary seen : [0]\n",
      "primary bought : [0]\n",
      "probability : 0.63\n",
      "collected_margin : 3.4\n",
      "\n"
     ]
    }
   ],
   "source": [
    "for path in paths_list:\n",
    "    print(path)"
   ]
  },
  {
   "cell_type": "code",
   "execution_count": 20,
   "metadata": {},
   "outputs": [
    {
     "data": {
      "text/plain": [
       "(21.776674466568, [3, 3, 3, 2, 0])"
      ]
     },
     "execution_count": 20,
     "metadata": {},
     "output_type": "execute_result"
    }
   ],
   "source": [
    "Env.optimal_reward()"
   ]
  },
  {
   "cell_type": "code",
   "execution_count": 21,
   "metadata": {},
   "outputs": [
    {
     "data": {
      "text/plain": [
       "21.76098998352728"
      ]
     },
     "execution_count": 21,
     "metadata": {},
     "output_type": "execute_result"
    }
   ],
   "source": [
    "Env.expected_reward(price_combination = [3, 3, 3, 1, 0])"
   ]
  },
  {
   "cell_type": "code",
   "execution_count": 25,
   "metadata": {},
   "outputs": [
    {
     "data": {
      "text/plain": [
       "{'CR_vector': array([0.99984377, 0.99980396, 0.94321826, 0.61522686, 0.31740993]),\n",
       " 'alpha_ratios': array([0.275, 0.135, 0.155, 0.135, 0.3  ]),\n",
       " 'n_prod_sold': array([1.65599125, 1.62713193, 1.63967207, 1.66597251, 1.5992004 ]),\n",
       " 'graph_weights': array([[0.        , 0.30903472, 0.10167768, 0.        , 0.        ],\n",
       "        [0.27264465, 0.        , 0.11625203, 0.        , 0.        ],\n",
       "        [0.        , 0.15905476, 0.        , 0.19995557, 0.        ],\n",
       "        [0.        , 0.        , 0.27762354, 0.        , 0.14992504],\n",
       "        [0.        , 0.        , 0.33314825, 0.17636684, 0.        ]])}"
      ]
     },
     "execution_count": 25,
     "metadata": {},
     "output_type": "execute_result"
    }
   ],
   "source": [
    "a = Env.simulate_day(200, [0,0,0,0,0], [\"conversion_rates\", \"alpha_ratios\", \"products_sold\", \"graph_weights\"])\n",
    "a\n"
   ]
  },
  {
   "cell_type": "markdown",
   "metadata": {},
   "source": [
    "# Greedy Algorithm Test"
   ]
  },
  {
   "cell_type": "code",
   "execution_count": 9,
   "metadata": {},
   "outputs": [
    {
     "data": {
      "text/plain": [
       "{'combination': [3, 2, 0, 0, 0], 'expected_reward': 12.861323518468646}"
      ]
     },
     "execution_count": 9,
     "metadata": {},
     "output_type": "execute_result"
    }
   ],
   "source": [
    "greedy_optimizer = Greedy_optimizer(Env)\n",
    "greedy_optimizer.run()"
   ]
  },
  {
   "cell_type": "code",
   "execution_count": 10,
   "metadata": {},
   "outputs": [],
   "source": [
    "opt_reward = greedy_optimizer.run()['expected_reward']"
   ]
  },
  {
   "cell_type": "markdown",
   "metadata": {},
   "source": [
    "# STEP 3 : Uncertain Convertion Rates"
   ]
  },
  {
   "cell_type": "code",
   "execution_count": 26,
   "metadata": {},
   "outputs": [],
   "source": [
    "from step3_learner import TS_learner3"
   ]
  },
  {
   "cell_type": "code",
   "execution_count": 27,
   "metadata": {},
   "outputs": [],
   "source": [
    "# Initial assumptions for beta parameters (uniform distr. on [0, 1])\n",
    "a = np.ones((5,4))\n",
    "b = np.ones((5,4))\n",
    "initial_beta = [a, b]\n",
    "learner = TS_learner3(initial_beta, Env)"
   ]
  },
  {
   "cell_type": "code",
   "execution_count": 28,
   "metadata": {},
   "outputs": [],
   "source": [
    "n_runs = 200\n",
    "daily_users = 300\n",
    "n_days = 300\n",
    "\n",
    "# delete possible old reward_history\n",
    "learner.reward_history = []\n",
    "\n",
    "for i in range(n_runs) :\n",
    "    learner.run(n_days, daily_users)\n",
    "\n",
    "opt_reward = learner.opt_reward\n",
    "collected_rewards = learner.reward_history"
   ]
  },
  {
   "cell_type": "markdown",
   "metadata": {},
   "source": [
    "- ## Salvo la history su file in modo che siamo sicuri ti riuscire a recuperarla anche in un secondo momento"
   ]
  },
  {
   "cell_type": "code",
   "execution_count": 29,
   "metadata": {},
   "outputs": [],
   "source": [
    "with open('step3_rewards', 'wb') as f: \n",
    "    pickle.dump(collected_rewards, f)"
   ]
  },
  {
   "cell_type": "markdown",
   "metadata": {},
   "source": [
    "- ## Per recuperare, invece, i risultati ottenuti in un secondo momento :"
   ]
  },
  {
   "cell_type": "code",
   "execution_count": 7,
   "metadata": {},
   "outputs": [],
   "source": [
    "with open('step3_rewards', 'rb') as f: \n",
    "    collected_rewards = pickle.load(f)"
   ]
  },
  {
   "cell_type": "markdown",
   "metadata": {},
   "source": [
    "- ## Cumulative Regret Plot"
   ]
  },
  {
   "cell_type": "code",
   "execution_count": 30,
   "metadata": {},
   "outputs": [
    {
     "data": {
      "image/png": "[encoded data removed]",
      "text/plain": [
       "<Figure size 432x288 with 1 Axes>"
      ]
     },
     "metadata": {
      "needs_background": "light"
     },
     "output_type": "display_data"
    }
   ],
   "source": [
    "plt.figure(0)\n",
    "plt.xlabel(\"t\")\n",
    "plt.ylabel(\"Regret\")\n",
    "plt.plot(np.cumsum(np.mean(opt_reward - collected_rewards, axis=0)), 'r')  #'r' stay for red, the color for the TS algorithm\n",
    "#plt.plot(np.cumsum(np.mean(opt - gr_rewards_per_experiment, axis=0)), 'g') #'g' stay for green, the color for the Greedy algorithm\n",
    "plt.legend([\"TS\"])\n",
    "plt.show()"
   ]
  },
  {
   "cell_type": "markdown",
   "metadata": {},
   "source": [
    "- ## Standard Deviation Plot"
   ]
  },
  {
   "cell_type": "code",
   "execution_count": 31,
   "metadata": {},
   "outputs": [
    {
     "data": {
      "image/png": "[encoded data removed]",
      "text/plain": [
       "<Figure size 432x288 with 1 Axes>"
      ]
     },
     "metadata": {
      "needs_background": "light"
     },
     "output_type": "display_data"
    }
   ],
   "source": [
    "plt.figure(0)\n",
    "plt.xlabel(\"t\")\n",
    "plt.ylabel(\"Regret\")\n",
    "plt.plot(np.std(opt_reward - collected_rewards, axis=0), 'r')  #'r' stay for red, the color for the TS algorithm\n",
    "#plt.plot(np.std(opt - gr_rewards_per_experiment, axis=0), 'g')  #'g' stay for green, the color for the Greedy algorithm\n",
    "plt.legend([\"TS\"])\n",
    "plt.show()"
   ]
  },
  {
   "cell_type": "code",
   "execution_count": 36,
   "metadata": {},
   "outputs": [
    {
     "data": {
      "image/png": "[encoded data removed]",
      "text/plain": [
       "<Figure size 432x288 with 1 Axes>"
      ]
     },
     "metadata": {
      "needs_background": "light"
     },
     "output_type": "display_data"
    }
   ],
   "source": [
    "plt.figure(0)\n",
    "plt.title(\"Optimal VS Expected Reward\")\n",
    "plt.axhline(opt_reward, color = 'green')\n",
    "plt.plot(np.mean(collected_rewards, axis=0))\n",
    "plt.legend([\"Optimal Reward\", \"Mean Expected Reward\"])\n",
    "plt.show()"
   ]
  },
  {
   "cell_type": "markdown",
   "metadata": {},
   "source": [
    "### We are now computing the (theoretical) expected reward from each arm in the history (for each \"experiment\")\n",
    "#### In any case I think it is more correct collecting and store the reward collected for any iteration of the algorithm inside a class attribute of the learner (as in the exercitation code). In this way we can also deal easier with more complex cases where the uncertain value are also the alpha ratios, n_prod and graph weights different from none, and simply manage also the case of abrupt changes, or cases of code/logic/numeric changes in the environment."
   ]
  },
  {
   "cell_type": "code",
   "execution_count": 25,
   "metadata": {},
   "outputs": [
    {
     "data": {
      "text/plain": [
       "array([0.        , 0.        , 2.56629902, 0.        , 0.93090344,\n",
       "       0.        , 0.        , 0.        , 0.        , 0.        ,\n",
       "       0.        , 0.16241739, 0.        , 0.        , 0.        ,\n",
       "       0.        , 0.        , 0.        , 0.        , 3.45002306,\n",
       "       0.        , 1.54713851, 0.        , 1.86180689, 0.        ,\n",
       "       0.        , 2.56629902, 0.        , 0.16241739, 3.49984271,\n",
       "       0.        , 4.16140408, 0.        , 0.        , 0.16241739,\n",
       "       0.        , 2.76729923, 0.        , 0.        , 0.16241739])"
      ]
     },
     "execution_count": 25,
     "metadata": {},
     "output_type": "execute_result"
    }
   ],
   "source": [
    "opt_reward = learner.opt_reward\n",
    "(opt_reward - collected_rewards)[11][-40:]\n"
   ]
  },
  {
   "cell_type": "code",
   "execution_count": 28,
   "metadata": {},
   "outputs": [
    {
     "data": {
      "text/plain": [
       "[10, 10, 10, 10, 10]"
      ]
     },
     "execution_count": 28,
     "metadata": {},
     "output_type": "execute_result"
    }
   ],
   "source": [
    "Env.users[0].alphas"
   ]
  },
  {
   "cell_type": "code",
   "execution_count": null,
   "metadata": {},
   "outputs": [],
   "source": []
  }
 ],
 "metadata": {
  "kernelspec": {
   "display_name": "Python 3 (ipykernel)",
   "language": "python",
   "name": "python3"
  },
  "language_info": {
   "codemirror_mode": {
    "name": "ipython",
    "version": 3
   },
   "file_extension": ".py",
   "mimetype": "text/x-python",
   "name": "python",
   "nbconvert_exporter": "python",
   "pygments_lexer": "ipython3",
   "version": "3.10.4"
  },
  "vscode": {
   "interpreter": {
    "hash": "aee8b7b246df8f9039afb4144a1f6fd8d2ca17a180786b69acc140d282b71a49"
   }
  }
 },
 "nbformat": 4,
 "nbformat_minor": 2
}
